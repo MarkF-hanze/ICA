{
 "cells": [
  {
   "cell_type": "code",
   "execution_count": 38,
   "metadata": {},
   "outputs": [],
   "source": [
    "from consensus import load_cancer_type, load_data"
   ]
  },
  {
   "cell_type": "code",
   "execution_count": 39,
   "metadata": {
    "pycharm": {
     "is_executing": true
    },
    "scrolled": false
   },
   "outputs": [
    {
     "name": "stdout",
     "output_type": "stream",
     "text": [
      "Number of components split Lung cancer: 193\n",
      "Number of components split Gastric cancer: 195\n",
      "Number of components split Breast cancer: 339\n",
      "Number of components split Sarcoma: 325\n",
      "Number of components split Colorectal cancer: 190\n",
      "Number of components split Prostate cancer: 106\n",
      "Number of components split Renal cancer: 138\n",
      "Number of components split HCC: 190\n",
      "Number of components split Ovarian cancer: 158\n",
      "Number of components split Lymphoma: 167\n",
      "Number of components split Multiple myeloma: 89\n",
      "Number of components split Normal: 605\n",
      "Number of components split Leukemia: 102\n",
      "Number of components split Adrenal cancer: 113\n",
      "Number of components split Myelodysplastic syndrome: 84\n",
      "Number of components split Brain cancer: 156\n",
      "Number of components split Melanoma: 194\n",
      "Number of components split HNSCC: 155\n",
      "Number of components All data: 3776\n"
     ]
    }
   ],
   "source": [
    "small_data, bigdata, lookup_columns = load_cancer_type('/home/MarkF/DivideConquer/Results/GPL570')"
   ]
  },
  {
   "cell_type": "code",
   "execution_count": 40,
   "metadata": {
    "pycharm": {
     "is_executing": true
    }
   },
   "outputs": [],
   "source": [
    "import pandas as pd\n",
    "big_small_data = small_data[0]\n",
    "for i in range(1, len(small_data)):\n",
    "    big_small_data = pd.merge(left=big_small_data, right=small_data[i], left_index=True, right_index=True)\n",
    "\n",
    "df_full = pd.merge(left=big_small_data, right=bigdata, left_index=True, right_index=True)\n"
   ]
  },
  {
   "cell_type": "code",
   "execution_count": 41,
   "metadata": {
    "pycharm": {
     "is_executing": true
    }
   },
   "outputs": [],
   "source": [
    "import numpy as np"
   ]
  },
  {
   "cell_type": "code",
   "execution_count": 42,
   "metadata": {
    "pycharm": {
     "is_executing": true
    }
   },
   "outputs": [],
   "source": [
    "correlation = np.corrcoef(df_full.values, rowvar=False)\n",
    "correlation = np.absolute(correlation)\n",
    "correlation = pd.DataFrame(correlation, columns=df_full.columns, index=df_full.columns)"
   ]
  },
  {
   "cell_type": "code",
   "execution_count": null,
   "metadata": {
    "pycharm": {
     "is_executing": true
    }
   },
   "outputs": [],
   "source": [
    "correlation.loc['consensus independent component 105_Lymphoma', 'consensus independent component 1655_big']"
   ]
  },
  {
   "cell_type": "code",
   "execution_count": null,
   "metadata": {
    "pycharm": {
     "is_executing": true
    }
   },
   "outputs": [],
   "source": [
    "correlation.loc['consensus independent component 77_Multiple myeloma', 'consensus independent component 105_Lymphoma']"
   ]
  },
  {
   "cell_type": "code",
   "execution_count": null,
   "metadata": {
    "pycharm": {
     "is_executing": true
    }
   },
   "outputs": [],
   "source": [
    "correlation.loc['consensus independent component 77_Multiple myeloma', 'consensus independent component 1655_big']"
   ]
  },
  {
   "cell_type": "code",
   "execution_count": null,
   "metadata": {
    "pycharm": {
     "is_executing": true
    }
   },
   "outputs": [],
   "source": [
    "subset_cols =[x for x in correlation.columns if 'big' in x] "
   ]
  },
  {
   "cell_type": "code",
   "execution_count": null,
   "metadata": {
    "pycharm": {
     "is_executing": true
    },
    "scrolled": true
   },
   "outputs": [],
   "source": [
    "correlation.loc['consensus independent component 77_Multiple myeloma', subset_cols].max()"
   ]
  },
  {
   "cell_type": "code",
   "execution_count": 43,
   "metadata": {
    "pycharm": {
     "is_executing": true
    }
   },
   "outputs": [],
   "source": [
    "df = pd.read_csv('/home/MarkF/DivideConquer/Results/GPL570/Lymphoma/GSEA'\n",
    "                          '/enrichment_matrix_Hallmark.tsv', sep='\\t', index_col=0)"
   ]
  },
  {
   "cell_type": "code",
   "execution_count": 44,
   "metadata": {
    "pycharm": {
     "is_executing": true
    }
   },
   "outputs": [
    {
     "data": {
      "text/html": [
       "<div>\n",
       "<style scoped>\n",
       "    .dataframe tbody tr th:only-of-type {\n",
       "        vertical-align: middle;\n",
       "    }\n",
       "\n",
       "    .dataframe tbody tr th {\n",
       "        vertical-align: top;\n",
       "    }\n",
       "\n",
       "    .dataframe thead th {\n",
       "        text-align: right;\n",
       "    }\n",
       "</style>\n",
       "<table border=\"1\" class=\"dataframe\">\n",
       "  <thead>\n",
       "    <tr style=\"text-align: right;\">\n",
       "      <th></th>\n",
       "      <th>consensus independent component 105</th>\n",
       "    </tr>\n",
       "  </thead>\n",
       "  <tbody>\n",
       "    <tr>\n",
       "      <th>HALLMARK_MYOGENESIS -- http://www.gsea-msigdb.org/gsea/msigdb/cards/HALLMARK_MYOGENESIS</th>\n",
       "      <td>3.707581</td>\n",
       "    </tr>\n",
       "    <tr>\n",
       "      <th>HALLMARK_COAGULATION -- http://www.gsea-msigdb.org/gsea/msigdb/cards/HALLMARK_COAGULATION</th>\n",
       "      <td>2.129486</td>\n",
       "    </tr>\n",
       "    <tr>\n",
       "      <th>HALLMARK_INTERFERON_GAMMA_RESPONSE -- http://www.gsea-msigdb.org/gsea/msigdb/cards/HALLMARK_INTERFERON_GAMMA_RESPONSE</th>\n",
       "      <td>1.932840</td>\n",
       "    </tr>\n",
       "    <tr>\n",
       "      <th>HALLMARK_OXIDATIVE_PHOSPHORYLATION -- http://www.gsea-msigdb.org/gsea/msigdb/cards/HALLMARK_OXIDATIVE_PHOSPHORYLATION</th>\n",
       "      <td>1.932364</td>\n",
       "    </tr>\n",
       "    <tr>\n",
       "      <th>HALLMARK_E2F_TARGETS -- http://www.gsea-msigdb.org/gsea/msigdb/cards/HALLMARK_E2F_TARGETS</th>\n",
       "      <td>1.931716</td>\n",
       "    </tr>\n",
       "  </tbody>\n",
       "</table>\n",
       "</div>"
      ],
      "text/plain": [
       "                                                    consensus independent component 105\n",
       "HALLMARK_MYOGENESIS -- http://www.gsea-msigdb.o...                             3.707581\n",
       "HALLMARK_COAGULATION -- http://www.gsea-msigdb....                             2.129486\n",
       "HALLMARK_INTERFERON_GAMMA_RESPONSE -- http://ww...                             1.932840\n",
       "HALLMARK_OXIDATIVE_PHOSPHORYLATION -- http://ww...                             1.932364\n",
       "HALLMARK_E2F_TARGETS -- http://www.gsea-msigdb....                             1.931716"
      ]
     },
     "execution_count": 44,
     "metadata": {},
     "output_type": "execute_result"
    }
   ],
   "source": [
    "pd.DataFrame(df['consensus independent component 105']).sort_values('consensus independent component 105',\n",
    "                                                                   ascending=False).head()"
   ]
  },
  {
   "cell_type": "code",
   "execution_count": 45,
   "metadata": {
    "pycharm": {
     "is_executing": true
    }
   },
   "outputs": [],
   "source": [
    "df = pd.read_csv('/home/MarkF/DivideConquer/Results/GPL570/Lymphoma/ICARUN'\n",
    "                          '/ica_independent_components_consensus.tsv', sep='\\t', index_col=0)"
   ]
  },
  {
   "cell_type": "code",
   "execution_count": 46,
   "metadata": {
    "pycharm": {
     "is_executing": true
    }
   },
   "outputs": [
    {
     "data": {
      "text/plain": [
       "22924     10.005387\n",
       "55721      7.513406\n",
       "2169       9.189986\n",
       "6405       8.238199\n",
       "27113      8.566449\n",
       "1585       8.499117\n",
       "2529       8.577872\n",
       "56413      8.402350\n",
       "23780      8.462717\n",
       "51085      8.306702\n",
       "84787      7.322995\n",
       "83723      8.320892\n",
       "80115      7.482746\n",
       "5833       8.872033\n",
       "399473     7.764881\n",
       "81794      8.282127\n",
       "136853     9.643772\n",
       "146433     8.664262\n",
       "57449      8.565332\n",
       "89882      7.819709\n",
       "Name: consensus independent component 105, dtype: float64"
      ]
     },
     "execution_count": 46,
     "metadata": {},
     "output_type": "execute_result"
    }
   ],
   "source": [
    "df[df['consensus independent component 105'] > df['consensus independent component 105'].quantile(0.999)]['consensus independent component 105']"
   ]
  },
  {
   "cell_type": "code",
   "execution_count": 47,
   "metadata": {
    "pycharm": {
     "is_executing": true
    }
   },
   "outputs": [],
   "source": [
    "pr = list(df[df['consensus independent component 105'] > df['consensus independent component 105'].quantile(0.999)].index)"
   ]
  },
  {
   "cell_type": "code",
   "execution_count": 48,
   "metadata": {
    "pycharm": {
     "is_executing": true
    }
   },
   "outputs": [
    {
     "data": {
      "text/plain": [
       "'22924 55721 2169 6405 27113 1585 2529 56413 23780 51085 84787 83723 80115 5833 399473 81794 136853 146433 57449 89882'"
      ]
     },
     "execution_count": 48,
     "metadata": {},
     "output_type": "execute_result"
    }
   ],
   "source": [
    "pr = [str(x) for x in pr]\n",
    "' '.join(pr)"
   ]
  },
  {
   "cell_type": "code",
   "execution_count": null,
   "metadata": {
    "pycharm": {
     "is_executing": true
    }
   },
   "outputs": [],
   "source": []
  },
  {
   "cell_type": "code",
   "execution_count": 49,
   "metadata": {
    "pycharm": {
     "is_executing": true
    }
   },
   "outputs": [],
   "source": [
    "df = pd.read_csv('/home/MarkF/DivideConquer/Results/GPL570/Multiple_myeloma/ICARUN'\n",
    "                          '/ica_independent_components_consensus.tsv', sep='\\t', index_col=0)"
   ]
  },
  {
   "cell_type": "code",
   "execution_count": 50,
   "metadata": {
    "pycharm": {
     "is_executing": true
    }
   },
   "outputs": [
    {
     "data": {
      "text/plain": [
       "22924     8.057704\n",
       "9726      7.237808\n",
       "1489      8.337997\n",
       "2169      7.997254\n",
       "2529      7.298704\n",
       "23780     8.606376\n",
       "51085     7.052034\n",
       "84787     7.798755\n",
       "83723     7.076917\n",
       "199731    7.087302\n",
       "5833      7.091812\n",
       "399473    7.745152\n",
       "81794     8.643039\n",
       "3748      7.134067\n",
       "158314    7.116818\n",
       "136853    7.231644\n",
       "221914    7.404955\n",
       "89882     8.079375\n",
       "390927    7.433214\n",
       "79962     7.576032\n",
       "Name: consensus independent component 77, dtype: float64"
      ]
     },
     "execution_count": 50,
     "metadata": {},
     "output_type": "execute_result"
    }
   ],
   "source": [
    "df[df['consensus independent component 77'] > df['consensus independent component 77'].quantile(0.999)]['consensus independent component 77']"
   ]
  },
  {
   "cell_type": "code",
   "execution_count": 51,
   "metadata": {
    "pycharm": {
     "is_executing": true
    }
   },
   "outputs": [],
   "source": [
    "pr = list(df[df['consensus independent component 77'] > df['consensus independent component 77'].quantile(0.999)].index)"
   ]
  },
  {
   "cell_type": "code",
   "execution_count": 52,
   "metadata": {
    "pycharm": {
     "is_executing": true
    }
   },
   "outputs": [
    {
     "data": {
      "text/plain": [
       "'22924 9726 1489 2169 2529 23780 51085 84787 83723 199731 5833 399473 81794 3748 158314 136853 221914 89882 390927 79962'"
      ]
     },
     "execution_count": 52,
     "metadata": {},
     "output_type": "execute_result"
    }
   ],
   "source": [
    "pr = [str(x) for x in pr]\n",
    "' '.join(pr)"
   ]
  },
  {
   "cell_type": "code",
   "execution_count": 53,
   "metadata": {
    "pycharm": {
     "is_executing": true
    }
   },
   "outputs": [],
   "source": [
    "df = pd.read_csv('/home/MarkF/DivideConquer/Results/GPL570/Lymphoma/GSEA'\n",
    "                          '/enrichment_matrix_Reactome.tsv', sep='\\t', index_col=0)\n",
    "df.columns = [f'{x} Lymphoma' for x in df.columns]\n",
    "df1 = pd.read_csv('/home/MarkF/DivideConquer/Results/GPL570/Multiple_myeloma/GSEA'\n",
    "                          '/enrichment_matrix_Reactome.tsv', sep='\\t', index_col=0)\n",
    "df1.columns = [f'{x} Myeloma' for x in df1.columns]"
   ]
  },
  {
   "cell_type": "code",
   "execution_count": 54,
   "metadata": {
    "pycharm": {
     "is_executing": true
    }
   },
   "outputs": [],
   "source": [
    "merged = df.join(df1)\n",
    "merged = merged[['consensus independent component 105 Lymphoma', 'consensus independent component 77 Myeloma']]\n",
    "merged = merged.abs()"
   ]
  },
  {
   "cell_type": "code",
   "execution_count": 55,
   "metadata": {
    "pycharm": {
     "is_executing": true
    }
   },
   "outputs": [],
   "source": [
    "cutoff = 1.65\n",
    "merged['BothSig'] = ((merged['consensus independent component 105 Lymphoma'] > cutoff) & (merged['consensus independent component 77 Myeloma'] > cutoff))"
   ]
  },
  {
   "cell_type": "code",
   "execution_count": 56,
   "metadata": {
    "pycharm": {
     "is_executing": true
    }
   },
   "outputs": [
    {
     "data": {
      "text/html": [
       "<div>\n",
       "<style scoped>\n",
       "    .dataframe tbody tr th:only-of-type {\n",
       "        vertical-align: middle;\n",
       "    }\n",
       "\n",
       "    .dataframe tbody tr th {\n",
       "        vertical-align: top;\n",
       "    }\n",
       "\n",
       "    .dataframe thead th {\n",
       "        text-align: right;\n",
       "    }\n",
       "</style>\n",
       "<table border=\"1\" class=\"dataframe\">\n",
       "  <thead>\n",
       "    <tr style=\"text-align: right;\">\n",
       "      <th></th>\n",
       "      <th>consensus independent component 105 Lymphoma</th>\n",
       "      <th>consensus independent component 77 Myeloma</th>\n",
       "      <th>BothSig</th>\n",
       "    </tr>\n",
       "  </thead>\n",
       "  <tbody>\n",
       "    <tr>\n",
       "      <th>REACTOME_NEURONAL_SYSTEM -- http://www.gsea-msigdb.org/gsea/msigdb/cards/REACTOME_NEURONAL_SYSTEM</th>\n",
       "      <td>2.489884</td>\n",
       "      <td>1.650611</td>\n",
       "      <td>True</td>\n",
       "    </tr>\n",
       "    <tr>\n",
       "      <th>REACTOME_COMMON_PATHWAY_OF_FIBRIN_CLOT_FORMATION -- http://www.gsea-msigdb.org/gsea/msigdb/cards/REACTOME_COMMON_PATHWAY_OF_FIBRIN_CLOT_FORMATION</th>\n",
       "      <td>3.462939</td>\n",
       "      <td>1.797642</td>\n",
       "      <td>True</td>\n",
       "    </tr>\n",
       "    <tr>\n",
       "      <th>REACTOME_GLYCOSAMINOGLYCAN_METABOLISM -- http://www.gsea-msigdb.org/gsea/msigdb/cards/REACTOME_GLYCOSAMINOGLYCAN_METABOLISM</th>\n",
       "      <td>2.283396</td>\n",
       "      <td>2.050776</td>\n",
       "      <td>True</td>\n",
       "    </tr>\n",
       "    <tr>\n",
       "      <th>REACTOME_TRIGLYCERIDE_CATABOLISM -- http://www.gsea-msigdb.org/gsea/msigdb/cards/REACTOME_TRIGLYCERIDE_CATABOLISM</th>\n",
       "      <td>1.907248</td>\n",
       "      <td>2.593548</td>\n",
       "      <td>True</td>\n",
       "    </tr>\n",
       "    <tr>\n",
       "      <th>REACTOME_HEPARAN_SULFATE_HEPARIN_HS_GAG_METABOLISM -- http://www.gsea-msigdb.org/gsea/msigdb/cards/REACTOME_HEPARAN_SULFATE_HEPARIN_HS_GAG_METABOLISM</th>\n",
       "      <td>1.796575</td>\n",
       "      <td>2.241294</td>\n",
       "      <td>True</td>\n",
       "    </tr>\n",
       "    <tr>\n",
       "      <th>REACTOME_METABOLISM_OF_STEROID_HORMONES -- http://www.gsea-msigdb.org/gsea/msigdb/cards/REACTOME_METABOLISM_OF_STEROID_HORMONES</th>\n",
       "      <td>2.358992</td>\n",
       "      <td>2.220493</td>\n",
       "      <td>True</td>\n",
       "    </tr>\n",
       "    <tr>\n",
       "      <th>REACTOME_HS_GAG_BIOSYNTHESIS -- http://www.gsea-msigdb.org/gsea/msigdb/cards/REACTOME_HS_GAG_BIOSYNTHESIS</th>\n",
       "      <td>2.390593</td>\n",
       "      <td>2.252884</td>\n",
       "      <td>True</td>\n",
       "    </tr>\n",
       "    <tr>\n",
       "      <th>REACTOME_VISUAL_PHOTOTRANSDUCTION -- http://www.gsea-msigdb.org/gsea/msigdb/cards/REACTOME_VISUAL_PHOTOTRANSDUCTION</th>\n",
       "      <td>1.727926</td>\n",
       "      <td>2.033503</td>\n",
       "      <td>True</td>\n",
       "    </tr>\n",
       "    <tr>\n",
       "      <th>REACTOME_DISEASES_OF_GLYCOSYLATION -- http://www.gsea-msigdb.org/gsea/msigdb/cards/REACTOME_DISEASES_OF_GLYCOSYLATION</th>\n",
       "      <td>2.092839</td>\n",
       "      <td>2.678919</td>\n",
       "      <td>True</td>\n",
       "    </tr>\n",
       "    <tr>\n",
       "      <th>REACTOME_REGULATION_OF_INSULIN_LIKE_GROWTH_FACTOR_IGF_TRANSPORT_AND_UPTAKE_BY_INSULIN_LIKE_GROWTH_FACTOR_BINDING_PROTEINS_IGFBPS -- http://www.gsea-msigdb.org/gsea/msigdb/cards/REACTOME_REGULATION_OF_INSULIN_LIKE_GROWTH_FACTOR_IGF_TRANSPORT_AND_UPTAKE_BY_INSULIN_LIKE_GROWTH_FACTOR_BINDING_PROTEINS_IGFBPS</th>\n",
       "      <td>1.862279</td>\n",
       "      <td>2.945709</td>\n",
       "      <td>True</td>\n",
       "    </tr>\n",
       "    <tr>\n",
       "      <th>REACTOME_DISEASES_ASSOCIATED_WITH_O_GLYCOSYLATION_OF_PROTEINS -- http://www.gsea-msigdb.org/gsea/msigdb/cards/REACTOME_DISEASES_ASSOCIATED_WITH_O_GLYCOSYLATION_OF_PROTEINS</th>\n",
       "      <td>2.765226</td>\n",
       "      <td>2.572572</td>\n",
       "      <td>True</td>\n",
       "    </tr>\n",
       "    <tr>\n",
       "      <th>REACTOME_MITOTIC_G2_G2_M_PHASES -- http://www.gsea-msigdb.org/gsea/msigdb/cards/REACTOME_MITOTIC_G2_G2_M_PHASES</th>\n",
       "      <td>1.722332</td>\n",
       "      <td>2.100181</td>\n",
       "      <td>True</td>\n",
       "    </tr>\n",
       "    <tr>\n",
       "      <th>REACTOME_O_LINKED_GLYCOSYLATION -- http://www.gsea-msigdb.org/gsea/msigdb/cards/REACTOME_O_LINKED_GLYCOSYLATION</th>\n",
       "      <td>3.446150</td>\n",
       "      <td>1.851862</td>\n",
       "      <td>True</td>\n",
       "    </tr>\n",
       "    <tr>\n",
       "      <th>REACTOME_MYOGENESIS -- http://www.gsea-msigdb.org/gsea/msigdb/cards/REACTOME_MYOGENESIS</th>\n",
       "      <td>2.490914</td>\n",
       "      <td>3.049009</td>\n",
       "      <td>True</td>\n",
       "    </tr>\n",
       "    <tr>\n",
       "      <th>REACTOME_AFLATOXIN_ACTIVATION_AND_DETOXIFICATION -- http://www.gsea-msigdb.org/gsea/msigdb/cards/REACTOME_AFLATOXIN_ACTIVATION_AND_DETOXIFICATION</th>\n",
       "      <td>2.199839</td>\n",
       "      <td>2.096976</td>\n",
       "      <td>True</td>\n",
       "    </tr>\n",
       "    <tr>\n",
       "      <th>REACTOME_NEUREXINS_AND_NEUROLIGINS -- http://www.gsea-msigdb.org/gsea/msigdb/cards/REACTOME_NEUREXINS_AND_NEUROLIGINS</th>\n",
       "      <td>2.481140</td>\n",
       "      <td>1.706698</td>\n",
       "      <td>True</td>\n",
       "    </tr>\n",
       "    <tr>\n",
       "      <th>REACTOME_PROTEIN_PROTEIN_INTERACTIONS_AT_SYNAPSES -- http://www.gsea-msigdb.org/gsea/msigdb/cards/REACTOME_PROTEIN_PROTEIN_INTERACTIONS_AT_SYNAPSES</th>\n",
       "      <td>2.420315</td>\n",
       "      <td>1.708382</td>\n",
       "      <td>True</td>\n",
       "    </tr>\n",
       "    <tr>\n",
       "      <th>REACTOME_NEUTROPHIL_DEGRANULATION -- http://www.gsea-msigdb.org/gsea/msigdb/cards/REACTOME_NEUTROPHIL_DEGRANULATION</th>\n",
       "      <td>2.753512</td>\n",
       "      <td>1.690491</td>\n",
       "      <td>True</td>\n",
       "    </tr>\n",
       "    <tr>\n",
       "      <th>REACTOME_METABOLISM_OF_FAT_SOLUBLE_VITAMINS -- http://www.gsea-msigdb.org/gsea/msigdb/cards/REACTOME_METABOLISM_OF_FAT_SOLUBLE_VITAMINS</th>\n",
       "      <td>1.964338</td>\n",
       "      <td>1.816468</td>\n",
       "      <td>True</td>\n",
       "    </tr>\n",
       "    <tr>\n",
       "      <th>REACTOME_M_PHASE -- http://www.gsea-msigdb.org/gsea/msigdb/cards/REACTOME_M_PHASE</th>\n",
       "      <td>1.798393</td>\n",
       "      <td>1.668442</td>\n",
       "      <td>True</td>\n",
       "    </tr>\n",
       "    <tr>\n",
       "      <th>REACTOME_METABOLISM_OF_AMINO_ACIDS_AND_DERIVATIVES -- http://www.gsea-msigdb.org/gsea/msigdb/cards/REACTOME_METABOLISM_OF_AMINO_ACIDS_AND_DERIVATIVES</th>\n",
       "      <td>2.266479</td>\n",
       "      <td>2.527959</td>\n",
       "      <td>True</td>\n",
       "    </tr>\n",
       "    <tr>\n",
       "      <th>REACTOME_TRANSLATION -- http://www.gsea-msigdb.org/gsea/msigdb/cards/REACTOME_TRANSLATION</th>\n",
       "      <td>2.546800</td>\n",
       "      <td>2.812133</td>\n",
       "      <td>True</td>\n",
       "    </tr>\n",
       "    <tr>\n",
       "      <th>REACTOME_PLATELET_AGGREGATION_PLUG_FORMATION -- http://www.gsea-msigdb.org/gsea/msigdb/cards/REACTOME_PLATELET_AGGREGATION_PLUG_FORMATION</th>\n",
       "      <td>2.185330</td>\n",
       "      <td>2.042570</td>\n",
       "      <td>True</td>\n",
       "    </tr>\n",
       "    <tr>\n",
       "      <th>REACTOME_ASSEMBLY_OF_ACTIVE_LPL_AND_LIPC_LIPASE_COMPLEXES -- http://www.gsea-msigdb.org/gsea/msigdb/cards/REACTOME_ASSEMBLY_OF_ACTIVE_LPL_AND_LIPC_LIPASE_COMPLEXES</th>\n",
       "      <td>2.910207</td>\n",
       "      <td>1.956409</td>\n",
       "      <td>True</td>\n",
       "    </tr>\n",
       "    <tr>\n",
       "      <th>REACTOME_FOXO_MEDIATED_TRANSCRIPTION -- http://www.gsea-msigdb.org/gsea/msigdb/cards/REACTOME_FOXO_MEDIATED_TRANSCRIPTION</th>\n",
       "      <td>2.204865</td>\n",
       "      <td>2.028484</td>\n",
       "      <td>True</td>\n",
       "    </tr>\n",
       "    <tr>\n",
       "      <th>REACTOME_FOXO_MEDIATED_TRANSCRIPTION_OF_CELL_DEATH_GENES -- http://www.gsea-msigdb.org/gsea/msigdb/cards/REACTOME_FOXO_MEDIATED_TRANSCRIPTION_OF_CELL_DEATH_GENES</th>\n",
       "      <td>2.199839</td>\n",
       "      <td>2.096976</td>\n",
       "      <td>True</td>\n",
       "    </tr>\n",
       "    <tr>\n",
       "      <th>REACTOME_FOXO_MEDIATED_TRANSCRIPTION_OF_OXIDATIVE_STRESS_METABOLIC_AND_NEURONAL_GENES -- http://www.gsea-msigdb.org/gsea/msigdb/cards/REACTOME_FOXO_MEDIATED_TRANSCRIPTION_OF_OXIDATIVE_STRESS_METABOLIC_AND_NEURONAL_GENES</th>\n",
       "      <td>2.456496</td>\n",
       "      <td>2.320442</td>\n",
       "      <td>True</td>\n",
       "    </tr>\n",
       "    <tr>\n",
       "      <th>REACTOME_N_GLYCAN_ANTENNAE_ELONGATION_IN_THE_MEDIAL_TRANS_GOLGI -- http://www.gsea-msigdb.org/gsea/msigdb/cards/REACTOME_N_GLYCAN_ANTENNAE_ELONGATION_IN_THE_MEDIAL_TRANS_GOLGI</th>\n",
       "      <td>2.640073</td>\n",
       "      <td>1.727459</td>\n",
       "      <td>True</td>\n",
       "    </tr>\n",
       "    <tr>\n",
       "      <th>REACTOME_AMYLOID_FIBER_FORMATION -- http://www.gsea-msigdb.org/gsea/msigdb/cards/REACTOME_AMYLOID_FIBER_FORMATION</th>\n",
       "      <td>1.907227</td>\n",
       "      <td>1.724470</td>\n",
       "      <td>True</td>\n",
       "    </tr>\n",
       "  </tbody>\n",
       "</table>\n",
       "</div>"
      ],
      "text/plain": [
       "                                                    consensus independent component 105 Lymphoma  \\\n",
       "REACTOME_NEURONAL_SYSTEM -- http://www.gsea-msi...                                      2.489884   \n",
       "REACTOME_COMMON_PATHWAY_OF_FIBRIN_CLOT_FORMATIO...                                      3.462939   \n",
       "REACTOME_GLYCOSAMINOGLYCAN_METABOLISM -- http:/...                                      2.283396   \n",
       "REACTOME_TRIGLYCERIDE_CATABOLISM -- http://www....                                      1.907248   \n",
       "REACTOME_HEPARAN_SULFATE_HEPARIN_HS_GAG_METABOL...                                      1.796575   \n",
       "REACTOME_METABOLISM_OF_STEROID_HORMONES -- http...                                      2.358992   \n",
       "REACTOME_HS_GAG_BIOSYNTHESIS -- http://www.gsea...                                      2.390593   \n",
       "REACTOME_VISUAL_PHOTOTRANSDUCTION -- http://www...                                      1.727926   \n",
       "REACTOME_DISEASES_OF_GLYCOSYLATION -- http://ww...                                      2.092839   \n",
       "REACTOME_REGULATION_OF_INSULIN_LIKE_GROWTH_FACT...                                      1.862279   \n",
       "REACTOME_DISEASES_ASSOCIATED_WITH_O_GLYCOSYLATI...                                      2.765226   \n",
       "REACTOME_MITOTIC_G2_G2_M_PHASES -- http://www.g...                                      1.722332   \n",
       "REACTOME_O_LINKED_GLYCOSYLATION -- http://www.g...                                      3.446150   \n",
       "REACTOME_MYOGENESIS -- http://www.gsea-msigdb.o...                                      2.490914   \n",
       "REACTOME_AFLATOXIN_ACTIVATION_AND_DETOXIFICATIO...                                      2.199839   \n",
       "REACTOME_NEUREXINS_AND_NEUROLIGINS -- http://ww...                                      2.481140   \n",
       "REACTOME_PROTEIN_PROTEIN_INTERACTIONS_AT_SYNAPS...                                      2.420315   \n",
       "REACTOME_NEUTROPHIL_DEGRANULATION -- http://www...                                      2.753512   \n",
       "REACTOME_METABOLISM_OF_FAT_SOLUBLE_VITAMINS -- ...                                      1.964338   \n",
       "REACTOME_M_PHASE -- http://www.gsea-msigdb.org/...                                      1.798393   \n",
       "REACTOME_METABOLISM_OF_AMINO_ACIDS_AND_DERIVATI...                                      2.266479   \n",
       "REACTOME_TRANSLATION -- http://www.gsea-msigdb....                                      2.546800   \n",
       "REACTOME_PLATELET_AGGREGATION_PLUG_FORMATION --...                                      2.185330   \n",
       "REACTOME_ASSEMBLY_OF_ACTIVE_LPL_AND_LIPC_LIPASE...                                      2.910207   \n",
       "REACTOME_FOXO_MEDIATED_TRANSCRIPTION -- http://...                                      2.204865   \n",
       "REACTOME_FOXO_MEDIATED_TRANSCRIPTION_OF_CELL_DE...                                      2.199839   \n",
       "REACTOME_FOXO_MEDIATED_TRANSCRIPTION_OF_OXIDATI...                                      2.456496   \n",
       "REACTOME_N_GLYCAN_ANTENNAE_ELONGATION_IN_THE_ME...                                      2.640073   \n",
       "REACTOME_AMYLOID_FIBER_FORMATION -- http://www....                                      1.907227   \n",
       "\n",
       "                                                    consensus independent component 77 Myeloma  \\\n",
       "REACTOME_NEURONAL_SYSTEM -- http://www.gsea-msi...                                    1.650611   \n",
       "REACTOME_COMMON_PATHWAY_OF_FIBRIN_CLOT_FORMATIO...                                    1.797642   \n",
       "REACTOME_GLYCOSAMINOGLYCAN_METABOLISM -- http:/...                                    2.050776   \n",
       "REACTOME_TRIGLYCERIDE_CATABOLISM -- http://www....                                    2.593548   \n",
       "REACTOME_HEPARAN_SULFATE_HEPARIN_HS_GAG_METABOL...                                    2.241294   \n",
       "REACTOME_METABOLISM_OF_STEROID_HORMONES -- http...                                    2.220493   \n",
       "REACTOME_HS_GAG_BIOSYNTHESIS -- http://www.gsea...                                    2.252884   \n",
       "REACTOME_VISUAL_PHOTOTRANSDUCTION -- http://www...                                    2.033503   \n",
       "REACTOME_DISEASES_OF_GLYCOSYLATION -- http://ww...                                    2.678919   \n",
       "REACTOME_REGULATION_OF_INSULIN_LIKE_GROWTH_FACT...                                    2.945709   \n",
       "REACTOME_DISEASES_ASSOCIATED_WITH_O_GLYCOSYLATI...                                    2.572572   \n",
       "REACTOME_MITOTIC_G2_G2_M_PHASES -- http://www.g...                                    2.100181   \n",
       "REACTOME_O_LINKED_GLYCOSYLATION -- http://www.g...                                    1.851862   \n",
       "REACTOME_MYOGENESIS -- http://www.gsea-msigdb.o...                                    3.049009   \n",
       "REACTOME_AFLATOXIN_ACTIVATION_AND_DETOXIFICATIO...                                    2.096976   \n",
       "REACTOME_NEUREXINS_AND_NEUROLIGINS -- http://ww...                                    1.706698   \n",
       "REACTOME_PROTEIN_PROTEIN_INTERACTIONS_AT_SYNAPS...                                    1.708382   \n",
       "REACTOME_NEUTROPHIL_DEGRANULATION -- http://www...                                    1.690491   \n",
       "REACTOME_METABOLISM_OF_FAT_SOLUBLE_VITAMINS -- ...                                    1.816468   \n",
       "REACTOME_M_PHASE -- http://www.gsea-msigdb.org/...                                    1.668442   \n",
       "REACTOME_METABOLISM_OF_AMINO_ACIDS_AND_DERIVATI...                                    2.527959   \n",
       "REACTOME_TRANSLATION -- http://www.gsea-msigdb....                                    2.812133   \n",
       "REACTOME_PLATELET_AGGREGATION_PLUG_FORMATION --...                                    2.042570   \n",
       "REACTOME_ASSEMBLY_OF_ACTIVE_LPL_AND_LIPC_LIPASE...                                    1.956409   \n",
       "REACTOME_FOXO_MEDIATED_TRANSCRIPTION -- http://...                                    2.028484   \n",
       "REACTOME_FOXO_MEDIATED_TRANSCRIPTION_OF_CELL_DE...                                    2.096976   \n",
       "REACTOME_FOXO_MEDIATED_TRANSCRIPTION_OF_OXIDATI...                                    2.320442   \n",
       "REACTOME_N_GLYCAN_ANTENNAE_ELONGATION_IN_THE_ME...                                    1.727459   \n",
       "REACTOME_AMYLOID_FIBER_FORMATION -- http://www....                                    1.724470   \n",
       "\n",
       "                                                    BothSig  \n",
       "REACTOME_NEURONAL_SYSTEM -- http://www.gsea-msi...     True  \n",
       "REACTOME_COMMON_PATHWAY_OF_FIBRIN_CLOT_FORMATIO...     True  \n",
       "REACTOME_GLYCOSAMINOGLYCAN_METABOLISM -- http:/...     True  \n",
       "REACTOME_TRIGLYCERIDE_CATABOLISM -- http://www....     True  \n",
       "REACTOME_HEPARAN_SULFATE_HEPARIN_HS_GAG_METABOL...     True  \n",
       "REACTOME_METABOLISM_OF_STEROID_HORMONES -- http...     True  \n",
       "REACTOME_HS_GAG_BIOSYNTHESIS -- http://www.gsea...     True  \n",
       "REACTOME_VISUAL_PHOTOTRANSDUCTION -- http://www...     True  \n",
       "REACTOME_DISEASES_OF_GLYCOSYLATION -- http://ww...     True  \n",
       "REACTOME_REGULATION_OF_INSULIN_LIKE_GROWTH_FACT...     True  \n",
       "REACTOME_DISEASES_ASSOCIATED_WITH_O_GLYCOSYLATI...     True  \n",
       "REACTOME_MITOTIC_G2_G2_M_PHASES -- http://www.g...     True  \n",
       "REACTOME_O_LINKED_GLYCOSYLATION -- http://www.g...     True  \n",
       "REACTOME_MYOGENESIS -- http://www.gsea-msigdb.o...     True  \n",
       "REACTOME_AFLATOXIN_ACTIVATION_AND_DETOXIFICATIO...     True  \n",
       "REACTOME_NEUREXINS_AND_NEUROLIGINS -- http://ww...     True  \n",
       "REACTOME_PROTEIN_PROTEIN_INTERACTIONS_AT_SYNAPS...     True  \n",
       "REACTOME_NEUTROPHIL_DEGRANULATION -- http://www...     True  \n",
       "REACTOME_METABOLISM_OF_FAT_SOLUBLE_VITAMINS -- ...     True  \n",
       "REACTOME_M_PHASE -- http://www.gsea-msigdb.org/...     True  \n",
       "REACTOME_METABOLISM_OF_AMINO_ACIDS_AND_DERIVATI...     True  \n",
       "REACTOME_TRANSLATION -- http://www.gsea-msigdb....     True  \n",
       "REACTOME_PLATELET_AGGREGATION_PLUG_FORMATION --...     True  \n",
       "REACTOME_ASSEMBLY_OF_ACTIVE_LPL_AND_LIPC_LIPASE...     True  \n",
       "REACTOME_FOXO_MEDIATED_TRANSCRIPTION -- http://...     True  \n",
       "REACTOME_FOXO_MEDIATED_TRANSCRIPTION_OF_CELL_DE...     True  \n",
       "REACTOME_FOXO_MEDIATED_TRANSCRIPTION_OF_OXIDATI...     True  \n",
       "REACTOME_N_GLYCAN_ANTENNAE_ELONGATION_IN_THE_ME...     True  \n",
       "REACTOME_AMYLOID_FIBER_FORMATION -- http://www....     True  "
      ]
     },
     "execution_count": 56,
     "metadata": {},
     "output_type": "execute_result"
    }
   ],
   "source": [
    "merged[merged['BothSig']==True]"
   ]
  },
  {
   "cell_type": "markdown",
   "metadata": {},
   "source": [
    "# Clustered"
   ]
  },
  {
   "cell_type": "code",
   "execution_count": null,
   "metadata": {
    "pycharm": {
     "is_executing": true
    }
   },
   "outputs": [],
   "source": [
    "directory = '/home/MarkF/DivideConquer/Results/MathExperiment/2_Split/One_Normalized'\n",
    "small_data, bigdata, lookup_columns = load_data(directory)"
   ]
  },
  {
   "cell_type": "code",
   "execution_count": null,
   "metadata": {
    "pycharm": {
     "is_executing": true
    }
   },
   "outputs": [],
   "source": [
    "import pandas as pd\n",
    "big_small_data = small_data[0]\n",
    "for i in range(1, len(small_data)):\n",
    "    big_small_data = pd.merge(left=big_small_data, right=small_data[i], left_index=True, right_index=True)\n",
    "\n",
    "df_full = pd.merge(left=big_small_data, right=bigdata, left_index=True, right_index=True)\n"
   ]
  },
  {
   "cell_type": "code",
   "execution_count": null,
   "metadata": {
    "pycharm": {
     "is_executing": true
    }
   },
   "outputs": [],
   "source": [
    "df_full"
   ]
  },
  {
   "cell_type": "code",
   "execution_count": null,
   "metadata": {
    "pycharm": {
     "is_executing": true
    }
   },
   "outputs": [],
   "source": [
    "import numpy as np"
   ]
  },
  {
   "cell_type": "code",
   "execution_count": null,
   "metadata": {
    "pycharm": {
     "is_executing": true
    }
   },
   "outputs": [],
   "source": [
    "correlation = np.corrcoef(df_full.values, rowvar=False)\n",
    "correlation = np.absolute(correlation)\n",
    "correlation = pd.DataFrame(correlation, columns=df_full.columns, index=df_full.columns)"
   ]
  },
  {
   "cell_type": "code",
   "execution_count": null,
   "metadata": {
    "pycharm": {
     "is_executing": true
    }
   },
   "outputs": [],
   "source": [
    "correlation.loc['consensus independent component 62_s2', 'consensus independent component 37_s1']"
   ]
  },
  {
   "cell_type": "code",
   "execution_count": null,
   "metadata": {
    "pycharm": {
     "is_executing": true
    }
   },
   "outputs": [],
   "source": [
    "subset_cols =[x for x in correlation.columns if 'big' in x] "
   ]
  },
  {
   "cell_type": "code",
   "execution_count": null,
   "metadata": {
    "pycharm": {
     "is_executing": true
    },
    "scrolled": true
   },
   "outputs": [],
   "source": [
    "correlation.loc['consensus independent component 62_s2', subset_cols].max()"
   ]
  },
  {
   "cell_type": "code",
   "execution_count": null,
   "metadata": {
    "pycharm": {
     "is_executing": true
    }
   },
   "outputs": [],
   "source": [
    "correlation.loc['consensus independent component 37_s1', subset_cols].max()"
   ]
  },
  {
   "cell_type": "code",
   "execution_count": null,
   "metadata": {
    "pycharm": {
     "is_executing": true
    }
   },
   "outputs": [],
   "source": []
  },
  {
   "cell_type": "code",
   "execution_count": null,
   "metadata": {
    "pycharm": {
     "is_executing": true
    }
   },
   "outputs": [],
   "source": [
    "df = pd.read_csv('/home/MarkF/DivideConquer/Results/MathExperiment/2_Split/One_Normalized/GSEA_SPLIT1/'\n",
    "                 'enrichment_matrix_Hallmark.tsv',\n",
    "                 sep='\\t', index_col=0)\n",
    "df.columns = [f'{x} 1' for x in df.columns]\n",
    "df1 = pd.read_csv('/home/MarkF/DivideConquer/Results/MathExperiment/2_Split/One_Normalized/GSEA_SPLIT2/'\n",
    "                 '/enrichment_matrix_Hallmark.tsv', sep='\\t', index_col=0)\n",
    "df1.columns = [f'{x} 2' for x in df1.columns]"
   ]
  },
  {
   "cell_type": "code",
   "execution_count": null,
   "metadata": {
    "pycharm": {
     "is_executing": true
    }
   },
   "outputs": [],
   "source": [
    "merged = df.join(df1)\n",
    "merged = merged[['consensus independent component 37 1', 'consensus independent component 62 2']]\n",
    "merged = merged.abs()"
   ]
  },
  {
   "cell_type": "code",
   "execution_count": null,
   "metadata": {
    "pycharm": {
     "is_executing": true
    }
   },
   "outputs": [],
   "source": [
    "cutoff = 1.65\n",
    "merged['BothSig'] = ((merged['consensus independent component 37 1'] > cutoff) & (merged['consensus independent component 62 2'] > cutoff))"
   ]
  },
  {
   "cell_type": "code",
   "execution_count": null,
   "metadata": {
    "pycharm": {
     "is_executing": true
    }
   },
   "outputs": [],
   "source": [
    "merged[merged['BothSig']==True]"
   ]
  },
  {
   "cell_type": "code",
   "execution_count": null,
   "metadata": {
    "pycharm": {
     "is_executing": true
    }
   },
   "outputs": [],
   "source": [
    "#"
   ]
  }
 ],
 "metadata": {
  "kernelspec": {
   "display_name": "Python 3 (ipykernel)",
   "language": "python",
   "name": "python3"
  },
  "language_info": {
   "codemirror_mode": {
    "name": "ipython",
    "version": 3
   },
   "file_extension": ".py",
   "mimetype": "text/x-python",
   "name": "python",
   "nbconvert_exporter": "python",
   "pygments_lexer": "ipython3",
   "version": "3.9.7"
  }
 },
 "nbformat": 4,
 "nbformat_minor": 1
}
