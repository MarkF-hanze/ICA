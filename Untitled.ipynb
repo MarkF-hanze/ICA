{
 "cells": [
  {
   "cell_type": "code",
   "execution_count": 348,
   "id": "265efe27",
   "metadata": {},
   "outputs": [],
   "source": [
    "from consensus import load_cancer_type, load_data, make_clusters, correlation_with_cutoff\n",
    "import pandas as pd\n",
    "import numpy as np\n",
    "import dcor\n",
    "from tqdm import tqdm"
   ]
  },
  {
   "cell_type": "code",
   "execution_count": 349,
   "id": "ce22c081",
   "metadata": {},
   "outputs": [
    {
     "name": "stdout",
     "output_type": "stream",
     "text": [
      "Number of components split 4: 201\n",
      "Number of components split 3: 142\n",
      "Number of components split 2: 201\n",
      "Number of components split 1: 131\n",
      "Number of components All data: 171\n"
     ]
    }
   ],
   "source": [
    "directory = '/home/MarkF/DivideConquer/Results/Math_Clustered/4_Split/'\n",
    "clustered_small_data, clustered_bigdata, clustered_lookup_columns = load_data(directory)\n",
    "clustered_big_small_data = clustered_small_data[0]\n",
    "for i in range(1, len(clustered_small_data)):\n",
    "    clustered_big_small_data = pd.merge(left=clustered_big_small_data, right=clustered_small_data[i], left_index=True, right_index=True)"
   ]
  },
  {
   "cell_type": "code",
   "execution_count": 350,
   "id": "72782f5b",
   "metadata": {},
   "outputs": [
    {
     "name": "stdout",
     "output_type": "stream",
     "text": [
      "Number of components split 4: 364\n",
      "Number of components split 3: 352\n",
      "Number of components split 2: 353\n",
      "Number of components split 1: 357\n",
      "Number of components All data: 171\n"
     ]
    }
   ],
   "source": [
    "directory = '/home/MarkF/DivideConquer/Results/MathExperiment/4_Split/'\n",
    "random_small_data, random_bigdata, random_lookup_columns = load_data(directory)\n",
    "# Merge the small components\n",
    "random_big_small_data = random_small_data[0]\n",
    "for i in range(1, len(random_small_data)):\n",
    "    random_big_small_data = pd.merge(left=random_big_small_data, right=random_small_data[i], left_index=True, right_index=True)"
   ]
  },
  {
   "cell_type": "code",
   "execution_count": 375,
   "id": "04c9e4b3",
   "metadata": {},
   "outputs": [],
   "source": [
    "df = pd.read_csv('/home/MarkF/DivideConquer/ICA/Results/Clustered/4_Split/Biological_int.csv', index_col=0)\n",
    "df = df[df['Score'] > 0.5]\n",
    "all_components = df[['Small Component', 'Small2 Component']]\n",
    "all_components = set(all_components.values.ravel())\n",
    "random_big_small_data = clustered_big_small_data[all_components]"
   ]
  },
  {
   "cell_type": "code",
   "execution_count": 352,
   "id": "39e20b73",
   "metadata": {},
   "outputs": [],
   "source": [
    "full_correlation, full_correlation_cut_off = correlation_with_cutoff(random_big_small_data, 0.5)\n",
    "clusters = make_clusters(full_correlation_cut_off)\n",
    "check_clust = [item for sublist in clusters for item in sublist]"
   ]
  },
  {
   "cell_type": "code",
   "execution_count": 376,
   "id": "a3ca577f",
   "metadata": {},
   "outputs": [
    {
     "data": {
      "text/plain": [
       "4"
      ]
     },
     "execution_count": 376,
     "metadata": {},
     "output_type": "execute_result"
    }
   ],
   "source": [
    "len(all_components)"
   ]
  },
  {
   "cell_type": "code",
   "execution_count": 353,
   "id": "8c1732a3",
   "metadata": {},
   "outputs": [],
   "source": [
    "i = 0\n",
    "for comp in all_components:\n",
    "    if comp not in check_clust:\n",
    "        i +=1\n",
    "        clusters.append([comp])"
   ]
  },
  {
   "cell_type": "code",
   "execution_count": 87,
   "id": "009202a0",
   "metadata": {
    "scrolled": true
   },
   "outputs": [
    {
     "name": "stderr",
     "output_type": "stream",
     "text": [
      "100%|██████████| 675/675 [1:14:59<00:00,  6.67s/it]\n"
     ]
    }
   ],
   "source": [
    "from scipy.stats import pearsonr\n",
    "correlation = pd.DataFrame(index=random_big_small_data.columns, columns=clustered_big_small_data.columns)\n",
    "for column in tqdm(clustered_big_small_data.columns):\n",
    "    for index in random_big_small_data.columns:\n",
    "        correlation.loc[index, column] = dcor.distance_correlation(clustered_big_small_data[column], \n",
    "                                                              random_big_small_data[index])\n",
    "#         correlation.loc[index, column] = abs(pearsonr(clustered_big_small_data[column], \n",
    "#                                                               random_big_small_data[index])[0])"
   ]
  },
  {
   "cell_type": "code",
   "execution_count": 361,
   "id": "bfd3a512",
   "metadata": {},
   "outputs": [
    {
     "name": "stdout",
     "output_type": "stream",
     "text": [
      "consensus independent component 185_s4    0.348273\n",
      "consensus independent component 229_s2    0.406119\n",
      "consensus independent component 221_s1    0.364352\n",
      "consensus independent component 171_s3    0.367836\n",
      "dtype: float64\n",
      "consensus independent component 191_s3    0.588230\n",
      "consensus independent component 244_s2    0.603775\n",
      "consensus independent component 243_s4    0.604332\n",
      "consensus independent component 167_s1    0.617897\n",
      "dtype: float64\n",
      "consensus independent component 47_s3    0.689723\n",
      "consensus independent component 47_s2    0.646608\n",
      "consensus independent component 39_s4    0.655692\n",
      "consensus independent component 29_s1    0.684951\n",
      "dtype: float64\n",
      "consensus independent component 156_s2    0.516793\n",
      "consensus independent component 32_s4     0.629027\n",
      "consensus independent component 80_s1     0.649937\n",
      "dtype: float64\n",
      "consensus independent component 81_s4     0.634554\n",
      "consensus independent component 102_s3    0.640564\n",
      "consensus independent component 14_s1     0.643211\n",
      "dtype: float64\n",
      "consensus independent component 186_s1    0.605525\n",
      "consensus independent component 210_s3    0.523508\n",
      "consensus independent component 354_s4    0.527696\n",
      "dtype: float64\n",
      "consensus independent component 312_s2    0.398468\n",
      "consensus independent component 348_s4    0.357423\n",
      "consensus independent component 291_s1    0.363871\n",
      "dtype: float64\n",
      "consensus independent component 250_s2    0.674490\n",
      "consensus independent component 4_s4      0.643799\n",
      "dtype: float64\n"
     ]
    }
   ],
   "source": [
    "non_appearning_clust = []\n",
    "appearing_clust = []\n",
    "for cluster in clusters:\n",
    "    print(correlation.loc[cluster,].max(axis=1))\n",
    "    if correlation.loc[cluster,].max(axis=1).max() < 0.5:\n",
    "        non_appearning_clust.append(cluster)\n",
    "    else:\n",
    "        appearing_clust.append(cluster)"
   ]
  },
  {
   "cell_type": "code",
   "execution_count": 369,
   "id": "6d2da842",
   "metadata": {
    "scrolled": true
   },
   "outputs": [
    {
     "data": {
      "text/plain": [
       "[['consensus independent component 185_s4',\n",
       "  'consensus independent component 229_s2',\n",
       "  'consensus independent component 221_s1',\n",
       "  'consensus independent component 171_s3'],\n",
       " ['consensus independent component 312_s2',\n",
       "  'consensus independent component 348_s4',\n",
       "  'consensus independent component 291_s1']]"
      ]
     },
     "execution_count": 369,
     "metadata": {},
     "output_type": "execute_result"
    }
   ],
   "source": [
    "non_appearning_clust"
   ]
  },
  {
   "cell_type": "code",
   "execution_count": 365,
   "id": "d855216b",
   "metadata": {},
   "outputs": [
    {
     "data": {
      "text/plain": [
       "6"
      ]
     },
     "execution_count": 365,
     "metadata": {},
     "output_type": "execute_result"
    }
   ],
   "source": [
    "len(appearing_clust)"
   ]
  },
  {
   "cell_type": "code",
   "execution_count": 363,
   "id": "991cd041",
   "metadata": {
    "scrolled": true
   },
   "outputs": [
    {
     "data": {
      "text/html": [
       "<div>\n",
       "<style scoped>\n",
       "    .dataframe tbody tr th:only-of-type {\n",
       "        vertical-align: middle;\n",
       "    }\n",
       "\n",
       "    .dataframe tbody tr th {\n",
       "        vertical-align: top;\n",
       "    }\n",
       "\n",
       "    .dataframe thead th {\n",
       "        text-align: right;\n",
       "    }\n",
       "</style>\n",
       "<table border=\"1\" class=\"dataframe\">\n",
       "  <thead>\n",
       "    <tr style=\"text-align: right;\">\n",
       "      <th></th>\n",
       "      <th>Small Component</th>\n",
       "      <th>Big Component</th>\n",
       "      <th>Small2 Component</th>\n",
       "      <th>Big2 Component</th>\n",
       "      <th>Score</th>\n",
       "    </tr>\n",
       "  </thead>\n",
       "  <tbody>\n",
       "    <tr>\n",
       "      <th>844</th>\n",
       "      <td>consensus independent component 291_s1</td>\n",
       "      <td>consensus independent component 101_big</td>\n",
       "      <td>consensus independent component 348_s4</td>\n",
       "      <td>consensus independent component 112_big</td>\n",
       "      <td>0.509063</td>\n",
       "    </tr>\n",
       "  </tbody>\n",
       "</table>\n",
       "</div>"
      ],
      "text/plain": [
       "                            Small Component  \\\n",
       "844  consensus independent component 291_s1   \n",
       "\n",
       "                               Big Component  \\\n",
       "844  consensus independent component 101_big   \n",
       "\n",
       "                           Small2 Component  \\\n",
       "844  consensus independent component 348_s4   \n",
       "\n",
       "                              Big2 Component     Score  \n",
       "844  consensus independent component 112_big  0.509063  "
      ]
     },
     "execution_count": 363,
     "metadata": {},
     "output_type": "execute_result"
    }
   ],
   "source": [
    "df[(df['Small Component']=='consensus independent component 291_s1') | \n",
    "   (df['Small2 Component']=='consensus independent component 291_s1')]"
   ]
  },
  {
   "cell_type": "code",
   "execution_count": 159,
   "id": "8ec88b8c",
   "metadata": {},
   "outputs": [
    {
     "data": {
      "text/plain": [
       "0.5628387336922285"
      ]
     },
     "execution_count": 159,
     "metadata": {},
     "output_type": "execute_result"
    }
   ],
   "source": [
    "full_correlation.loc['consensus independent component 291_s1', 'consensus independent component 348_s4']"
   ]
  },
  {
   "cell_type": "code",
   "execution_count": 169,
   "id": "cd023876",
   "metadata": {},
   "outputs": [
    {
     "data": {
      "text/plain": [
       "(-0.040064092652676665, 1.9556892080959776e-08)"
      ]
     },
     "execution_count": 169,
     "metadata": {},
     "output_type": "execute_result"
    }
   ],
   "source": [
    "pearsonr(random_big_small_data['consensus independent component 348_s4'], random_bigdata['consensus independent component 112_big'])"
   ]
  },
  {
   "cell_type": "code",
   "execution_count": 344,
   "id": "2b92cf96",
   "metadata": {},
   "outputs": [
    {
     "data": {
      "text/plain": [
       "consensus independent component 193_s4    0.010316\n",
       "consensus independent component 115_s2    0.010855\n",
       "consensus independent component 173_s2    0.011221\n",
       "consensus independent component 149_s2    0.011222\n",
       "consensus independent component 28_s4     0.011318\n",
       "                                            ...   \n",
       "consensus independent component 189_s4    0.095335\n",
       "consensus independent component 104_s4    0.096449\n",
       "consensus independent component 43_s4     0.119856\n",
       "consensus independent component 163_s4     0.27588\n",
       "consensus independent component 198_s4    0.364352\n",
       "Name: consensus independent component 221_s1, Length: 675, dtype: object"
      ]
     },
     "execution_count": 344,
     "metadata": {},
     "output_type": "execute_result"
    }
   ],
   "source": [
    "correlation.loc['consensus independent component 221_s1',].sort_values()"
   ]
  },
  {
   "cell_type": "code",
   "execution_count": 259,
   "id": "b9b2c556",
   "metadata": {},
   "outputs": [
    {
     "data": {
      "text/plain": [
       "consensus independent component 66_s2     0.010209\n",
       "consensus independent component 122_s2    0.010324\n",
       "consensus independent component 92_s1     0.011876\n",
       "consensus independent component 123_s2    0.011987\n",
       "consensus independent component 54_s4     0.012212\n",
       "                                            ...   \n",
       "consensus independent component 43_s4     0.112885\n",
       "consensus independent component 50_s1      0.11808\n",
       "consensus independent component 151_s2    0.122211\n",
       "consensus independent component 163_s4    0.288056\n",
       "consensus independent component 198_s4    0.406119\n",
       "Name: consensus independent component 229_s2, Length: 675, dtype: object"
      ]
     },
     "execution_count": 259,
     "metadata": {},
     "output_type": "execute_result"
    }
   ],
   "source": [
    "correlation.loc['consensus independent component 229_s2',].sort_values()"
   ]
  },
  {
   "cell_type": "code",
   "execution_count": 345,
   "id": "922f33c5",
   "metadata": {},
   "outputs": [
    {
     "data": {
      "text/plain": [
       "0.41855333301732384"
      ]
     },
     "execution_count": 345,
     "metadata": {},
     "output_type": "execute_result"
    }
   ],
   "source": [
    "import itertools\n",
    "def make_negative(vector):\n",
    "    return -vector\n",
    "\n",
    "\n",
    "def do_nothing(vector):\n",
    "    return vector    \n",
    "    \n",
    "def check(small_components, big_components):\n",
    "    # Check every linear combination of the small components\n",
    "    max_new_distances = 0\n",
    "    winning_operations = []\n",
    "    # Make every combination of adding or subtracting\n",
    "    operations = (do_nothing, make_negative)\n",
    "    operations_small = itertools.product(operations, repeat=len(small_components))\n",
    "    operations_big = itertools.product(operations, repeat=len(big_components))\n",
    "    for operation_small,operation_big  in zip(operations_small, operations_big):\n",
    "        # Add all small components together (some are made negative so this is subtracting)\n",
    "        outcome = np.zeros((small_components[0].shape[0]))\n",
    "        for component, op in zip(small_components, operation_small):\n",
    "            outcome = outcome + op(component)\n",
    "        \n",
    "         # Add all small components together (some are made negative so this is subtracting)\n",
    "        outcome2 = np.zeros((big_components[0].shape[0]))\n",
    "        for component, op in zip(big_components, operation_big):\n",
    "            outcome2 = outcome2 + op(component)\n",
    "        \n",
    "        # Calculate the distance of this components to the big component\n",
    "        new_distances = dcor.distance_correlation(outcome, outcome2)\n",
    "        # If it is bigger add it\n",
    "        if new_distances > max_new_distances:\n",
    "            max_new_distances = new_distances\n",
    "    return max_new_distances\n",
    "\n",
    "check([random_big_small_data['consensus independent component 185_s4'], \n",
    "       random_big_small_data['consensus independent component 229_s2'],\n",
    "       random_big_small_data['consensus independent component 221_s1'],\n",
    "       random_big_small_data['consensus independent component 171_s3']],\n",
    "     [clustered_big_small_data['consensus independent component 198_s4'],\n",
    "      clustered_big_small_data['consensus independent component 163_s4']])"
   ]
  },
  {
   "cell_type": "code",
   "execution_count": null,
   "id": "ebb269d5",
   "metadata": {},
   "outputs": [],
   "source": [
    "testv = +\\\n",
    "random_big_small_data['consensus independent component 348_s4'] - \\\n",
    "random_big_small_data['consensus independent component 312_s2'] - \\\n",
    "random_big_small_data['consensus independent component 291_s1']\n",
    "\n",
    "testv2 = clustered_big_small_data['consensus independent component 74_s1']  + \\\n",
    "clustered_big_small_data['consensus independent component 163_s4']\n",
    "\n",
    "dcor.distance_correlation(testv, testv2)"
   ]
  },
  {
   "cell_type": "code",
   "execution_count": null,
   "id": "1057d278",
   "metadata": {},
   "outputs": [],
   "source": []
  }
 ],
 "metadata": {
  "kernelspec": {
   "display_name": "Python 3 (ipykernel)",
   "language": "python",
   "name": "python3"
  },
  "language_info": {
   "codemirror_mode": {
    "name": "ipython",
    "version": 3
   },
   "file_extension": ".py",
   "mimetype": "text/x-python",
   "name": "python",
   "nbconvert_exporter": "python",
   "pygments_lexer": "ipython3",
   "version": "3.9.7"
  }
 },
 "nbformat": 4,
 "nbformat_minor": 5
}
