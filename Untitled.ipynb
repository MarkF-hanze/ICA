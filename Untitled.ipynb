{
 "cells": [
  {
   "cell_type": "code",
   "execution_count": 3,
   "id": "afb11efb",
   "metadata": {},
   "outputs": [],
   "source": [
    "import pandas as pd\n",
    "import sys\n",
    "import os"
   ]
  },
  {
   "cell_type": "markdown",
   "id": "4831ef31",
   "metadata": {},
   "source": [
    "# Absulute for the GSEA "
   ]
  },
  {
   "cell_type": "code",
   "execution_count": 89,
   "id": "75e118e6",
   "metadata": {},
   "outputs": [],
   "source": [
    "all_absolute = pd.DataFrame()\n",
    "first_run = True\n",
    "for cancer_type in os.scandir('/home/MarkF/DivideConquer/Results/GPL570'):\n",
    "    for entry in os.scandir(cancer_type):\n",
    "        if 'ICARUN' in entry.path:\n",
    "            for file in os.scandir(entry):\n",
    "                if 'ica_independent_components_consensus.tsv' in file.path:\n",
    "                    df = pd.read_csv(file.path, sep='\\t', index_col=0)\n",
    "                    df = df.abs()\n",
    "                    df.columns = [f\"{x}_{entry.path.split('/')[-2]}\" for x in df.columns]\n",
    "                    if first_run:\n",
    "                        all_absolute = df.copy()\n",
    "                        first_run = False\n",
    "                    else:\n",
    "                        all_absolute = all_absolute.join(df)\n",
    "                    #df.to_csv(f'{entry.path}/ica_independent_components_consensus_absolute.tsv', \n",
    "                    #          sep='\\t')\n",
    "                    \n",
    "                    \n"
   ]
  },
  {
   "cell_type": "code",
   "execution_count": 94,
   "id": "95a4b4e2",
   "metadata": {},
   "outputs": [],
   "source": [
    "# Merge them \n",
    "all_absolute.to_csv('/home/MarkF/DivideConquer/Results/GPL570/AllComponent_Abs.tsv', \n",
    "                             sep='\\t')"
   ]
  },
  {
   "cell_type": "markdown",
   "id": "53988eef",
   "metadata": {},
   "source": [
    "# Find lineair combinations"
   ]
  },
  {
   "cell_type": "code",
   "execution_count": 79,
   "id": "cbcbaa5b",
   "metadata": {},
   "outputs": [
    {
     "name": "stdout",
     "output_type": "stream",
     "text": [
      "Number of components split 2: 198\n",
      "Number of components split 1: 143\n",
      "Number of components All data: 171\n"
     ]
    }
   ],
   "source": [
    "from consensus import load_cancer_type, load_data\n",
    "from scipy.stats import pearsonr\n",
    "small_data, bigdata, lookup_columns = load_data('/home/MarkF/DivideConquer/Results/Math_Clustered/2_Split/')"
   ]
  },
  {
   "cell_type": "code",
   "execution_count": 81,
   "id": "f9a892b0",
   "metadata": {},
   "outputs": [],
   "source": [
    "X = small_data[0].join(small_data[1])"
   ]
  },
  {
   "cell_type": "code",
   "execution_count": 82,
   "id": "c94f7d91",
   "metadata": {},
   "outputs": [
    {
     "name": "stdout",
     "output_type": "stream",
     "text": [
      "consensus independent component 137_s1 consensus independent component 86_s2\n",
      "0.0030295134004176653\n",
      "consensus independent component 48_s2 consensus independent component 117_s1\n",
      "0.8958659323000989\n",
      "consensus independent component 46_s2 consensus independent component 29_s1\n",
      "0.03874177422000402\n",
      "consensus independent component 24_s1 consensus independent component 69_s2\n",
      "0.7883227070396267\n",
      "consensus independent component 53_s2 consensus independent component 1_s1\n",
      "-0.0036908964729227937\n",
      "consensus independent component 62_s1 consensus independent component 141_s1\n",
      "0.030070360230697583\n",
      "consensus independent component 27_s2 consensus independent component 16_s1\n",
      "0.7254820353358016\n",
      "consensus independent component 24_s2 consensus independent component 100_s1\n",
      "0.7349109996819783\n",
      "consensus independent component 5_s1 consensus independent component 92_s2\n",
      "0.009556229642061029\n",
      "consensus independent component 175_s2 consensus independent component 32_s1\n",
      "0.03812366862928926\n",
      "consensus independent component 92_s1 consensus independent component 9_s1\n",
      "0.027695973215102754\n",
      "consensus independent component 65_s2 consensus independent component 141_s1\n",
      "0.9242499499905084\n",
      "consensus independent component 23_s2 consensus independent component 8_s1\n",
      "0.8893013704416896\n",
      "consensus independent component 90_s1 consensus independent component 38_s1\n",
      "0.14011564151164146\n",
      "consensus independent component 69_s2 consensus independent component 186_s2\n",
      "0.9117543724637961\n",
      "consensus independent component 42_s2 consensus independent component 35_s1\n",
      "0.9136044824082967\n",
      "consensus independent component 56_s2 consensus independent component 131_s1\n",
      "0.8820325549490997\n",
      "consensus independent component 107_s1 consensus independent component 141_s2\n",
      "0.5310418072096236\n",
      "consensus independent component 55_s2 consensus independent component 4_s2\n",
      "0.8450111513930522\n",
      "consensus independent component 21_s2 consensus independent component 101_s2\n",
      "0.7776288836021235\n",
      "consensus independent component 103_s2 consensus independent component 5_s1\n",
      "0.8545829123720444\n",
      "consensus independent component 20_s2 consensus independent component 71_s1\n",
      "0.9014493671894527\n",
      "consensus independent component 55_s1 consensus independent component 46_s2\n",
      "0.05057567068339813\n",
      "consensus independent component 20_s1 consensus independent component 7_s1\n",
      "0.03576618071071507\n",
      "consensus independent component 82_s2 consensus independent component 42_s1\n",
      "0.9046450410326167\n",
      "consensus independent component 40_s2 consensus independent component 91_s1\n",
      "0.8791462642545163\n",
      "consensus independent component 136_s1 consensus independent component 83_s1\n",
      "0.5907570142403135\n",
      "consensus independent component 45_s2 consensus independent component 20_s2\n",
      "0.8652248458998056\n",
      "consensus independent component 142_s1 consensus independent component 119_s1\n",
      "0.12404762093374672\n",
      "consensus independent component 125_s2 consensus independent component 7_s1\n",
      "0.8455389282070545\n",
      "consensus independent component 16_s2 consensus independent component 93_s1\n",
      "0.8902424452663976\n",
      "consensus independent component 23_s1 consensus independent component 60_s1\n",
      "0.4739892591892471\n",
      "consensus independent component 44_s1 consensus independent component 17_s1\n",
      "0.047381626014840784\n",
      "consensus independent component 49_s2 consensus independent component 10_s1\n",
      "0.0021307199192535237\n",
      "consensus independent component 68_s1 consensus independent component 62_s1\n",
      "0.3939420957269347\n",
      "consensus independent component 34_s2 consensus independent component 46_s1\n",
      "0.8598692666061329\n",
      "consensus independent component 108_s2 consensus independent component 57_s1\n",
      "0.8806426401343883\n",
      "consensus independent component 138_s1 consensus independent component 38_s1\n",
      "0.6883884967217855\n",
      "consensus independent component 159_s2 consensus independent component 4_s1\n",
      "0.7428012535932378\n",
      "consensus independent component 80_s1 consensus independent component 93_s1\n",
      "0.5963446691551222\n",
      "consensus independent component 103_s1 consensus independent component 42_s1\n",
      "0.571881879135241\n",
      "consensus independent component 17_s1 consensus independent component 90_s1\n",
      "0.42154983093709614\n",
      "consensus independent component 102_s1 consensus independent component 105_s1\n",
      "0.8179994803006128\n",
      "consensus independent component 3_s1 consensus independent component 27_s1\n",
      "0.08793244339588795\n",
      "consensus independent component 104_s1 consensus independent component 116_s2\n",
      "0.05173832607212687\n",
      "consensus independent component 7_s2 consensus independent component 39_s1\n",
      "0.8632301223654913\n",
      "consensus independent component 31_s1 consensus independent component 187_s2\n",
      "0.43735872539581766\n",
      "consensus independent component 2_s2 consensus independent component 28_s1\n",
      "0.9003203889951877\n",
      "consensus independent component 91_s1 consensus independent component 135_s1\n",
      "0.5466867919603986\n",
      "consensus independent component 90_s1 consensus independent component 3_s1\n",
      "0.08808262666513919\n",
      "consensus independent component 136_s1 consensus independent component 28_s2\n",
      "0.08831972255607837\n",
      "consensus independent component 26_s1 consensus independent component 10_s1\n",
      "0.3513275649189794\n",
      "consensus independent component 68_s1 consensus independent component 122_s2\n",
      "0.051776457979506474\n",
      "consensus independent component 126_s2 consensus independent component 19_s2\n",
      "0.08519885623842305\n",
      "consensus independent component 25_s2 consensus independent component 83_s1\n",
      "0.8551253497946881\n",
      "consensus independent component 49_s1 consensus independent component 68_s1\n",
      "0.027722610131662752\n",
      "consensus independent component 83_s2 consensus independent component 42_s1\n",
      "0.8776351623649838\n",
      "consensus independent component 26_s1 consensus independent component 85_s1\n",
      "0.5087471468544076\n",
      "consensus independent component 107_s1 consensus independent component 81_s1\n",
      "0.2364316809319067\n"
     ]
    },
    {
     "ename": "KeyboardInterrupt",
     "evalue": "",
     "output_type": "error",
     "traceback": [
      "\u001b[0;31m---------------------------------------------------------------------------\u001b[0m",
      "\u001b[0;31mKeyboardInterrupt\u001b[0m                         Traceback (most recent call last)",
      "\u001b[0;32m/tmp/ipykernel_545214/2751727161.py\u001b[0m in \u001b[0;36m<module>\u001b[0;34m\u001b[0m\n\u001b[1;32m      3\u001b[0m \u001b[0;32mfor\u001b[0m \u001b[0mcolumn\u001b[0m \u001b[0;32min\u001b[0m \u001b[0mbigdata\u001b[0m\u001b[0;34m.\u001b[0m\u001b[0mcolumns\u001b[0m\u001b[0;34m:\u001b[0m\u001b[0;34m\u001b[0m\u001b[0;34m\u001b[0m\u001b[0m\n\u001b[1;32m      4\u001b[0m     \u001b[0my\u001b[0m \u001b[0;34m=\u001b[0m \u001b[0mbigdata\u001b[0m\u001b[0;34m[\u001b[0m\u001b[0mcolumn\u001b[0m\u001b[0;34m]\u001b[0m\u001b[0;34m\u001b[0m\u001b[0;34m\u001b[0m\u001b[0m\n\u001b[0;32m----> 5\u001b[0;31m     \u001b[0mreg\u001b[0m \u001b[0;34m=\u001b[0m \u001b[0mLinearRegression\u001b[0m\u001b[0;34m(\u001b[0m\u001b[0mfit_intercept\u001b[0m\u001b[0;34m=\u001b[0m\u001b[0;32mFalse\u001b[0m\u001b[0;34m,\u001b[0m \u001b[0mn_jobs\u001b[0m\u001b[0;34m=\u001b[0m\u001b[0;36m10\u001b[0m\u001b[0;34m)\u001b[0m\u001b[0;34m.\u001b[0m\u001b[0mfit\u001b[0m\u001b[0;34m(\u001b[0m\u001b[0mX\u001b[0m\u001b[0;34m,\u001b[0m \u001b[0my\u001b[0m\u001b[0;34m)\u001b[0m\u001b[0;34m\u001b[0m\u001b[0;34m\u001b[0m\u001b[0m\n\u001b[0m\u001b[1;32m      6\u001b[0m     \u001b[0mhigh_cov\u001b[0m \u001b[0;34m=\u001b[0m \u001b[0mreg\u001b[0m\u001b[0;34m.\u001b[0m\u001b[0mcoef_\u001b[0m\u001b[0;34m.\u001b[0m\u001b[0margsort\u001b[0m\u001b[0;34m(\u001b[0m\u001b[0;34m)\u001b[0m\u001b[0;34m[\u001b[0m\u001b[0;34m:\u001b[0m\u001b[0;34m:\u001b[0m\u001b[0;34m-\u001b[0m\u001b[0;36m1\u001b[0m\u001b[0;34m]\u001b[0m\u001b[0;34m\u001b[0m\u001b[0;34m\u001b[0m\u001b[0m\n\u001b[1;32m      7\u001b[0m     \u001b[0my_pred\u001b[0m \u001b[0;34m=\u001b[0m \u001b[0mreg\u001b[0m\u001b[0;34m.\u001b[0m\u001b[0mcoef_\u001b[0m\u001b[0;34m[\u001b[0m\u001b[0mhigh_cov\u001b[0m\u001b[0;34m[\u001b[0m\u001b[0;36m0\u001b[0m\u001b[0;34m]\u001b[0m\u001b[0;34m]\u001b[0m \u001b[0;34m*\u001b[0m \u001b[0mX\u001b[0m\u001b[0;34m.\u001b[0m\u001b[0miloc\u001b[0m\u001b[0;34m[\u001b[0m\u001b[0;34m:\u001b[0m\u001b[0;34m,\u001b[0m\u001b[0mhigh_cov\u001b[0m\u001b[0;34m[\u001b[0m\u001b[0;36m0\u001b[0m\u001b[0;34m]\u001b[0m\u001b[0;34m]\u001b[0m \u001b[0;34m+\u001b[0m \u001b[0mreg\u001b[0m\u001b[0;34m.\u001b[0m\u001b[0mcoef_\u001b[0m\u001b[0;34m[\u001b[0m\u001b[0mhigh_cov\u001b[0m\u001b[0;34m[\u001b[0m\u001b[0;36m1\u001b[0m\u001b[0;34m]\u001b[0m\u001b[0;34m]\u001b[0m \u001b[0;34m*\u001b[0m \u001b[0mX\u001b[0m\u001b[0;34m.\u001b[0m\u001b[0miloc\u001b[0m\u001b[0;34m[\u001b[0m\u001b[0;34m:\u001b[0m\u001b[0;34m,\u001b[0m\u001b[0mhigh_cov\u001b[0m\u001b[0;34m[\u001b[0m\u001b[0;36m1\u001b[0m\u001b[0;34m]\u001b[0m\u001b[0;34m]\u001b[0m\u001b[0;34m\u001b[0m\u001b[0;34m\u001b[0m\u001b[0m\n",
      "\u001b[0;32m~/.conda/envs/Code/lib/python3.9/site-packages/sklearn/linear_model/_base.py\u001b[0m in \u001b[0;36mfit\u001b[0;34m(self, X, y, sample_weight)\u001b[0m\n\u001b[1;32m    716\u001b[0m                 \u001b[0mself\u001b[0m\u001b[0;34m.\u001b[0m\u001b[0m_residues\u001b[0m \u001b[0;34m=\u001b[0m \u001b[0mnp\u001b[0m\u001b[0;34m.\u001b[0m\u001b[0mvstack\u001b[0m\u001b[0;34m(\u001b[0m\u001b[0;34m[\u001b[0m\u001b[0mout\u001b[0m\u001b[0;34m[\u001b[0m\u001b[0;36m3\u001b[0m\u001b[0;34m]\u001b[0m \u001b[0;32mfor\u001b[0m \u001b[0mout\u001b[0m \u001b[0;32min\u001b[0m \u001b[0mouts\u001b[0m\u001b[0;34m]\u001b[0m\u001b[0;34m)\u001b[0m\u001b[0;34m\u001b[0m\u001b[0;34m\u001b[0m\u001b[0m\n\u001b[1;32m    717\u001b[0m         \u001b[0;32melse\u001b[0m\u001b[0;34m:\u001b[0m\u001b[0;34m\u001b[0m\u001b[0;34m\u001b[0m\u001b[0m\n\u001b[0;32m--> 718\u001b[0;31m             \u001b[0mself\u001b[0m\u001b[0;34m.\u001b[0m\u001b[0mcoef_\u001b[0m\u001b[0;34m,\u001b[0m \u001b[0mself\u001b[0m\u001b[0;34m.\u001b[0m\u001b[0m_residues\u001b[0m\u001b[0;34m,\u001b[0m \u001b[0mself\u001b[0m\u001b[0;34m.\u001b[0m\u001b[0mrank_\u001b[0m\u001b[0;34m,\u001b[0m \u001b[0mself\u001b[0m\u001b[0;34m.\u001b[0m\u001b[0msingular_\u001b[0m \u001b[0;34m=\u001b[0m \u001b[0mlinalg\u001b[0m\u001b[0;34m.\u001b[0m\u001b[0mlstsq\u001b[0m\u001b[0;34m(\u001b[0m\u001b[0mX\u001b[0m\u001b[0;34m,\u001b[0m \u001b[0my\u001b[0m\u001b[0;34m)\u001b[0m\u001b[0;34m\u001b[0m\u001b[0;34m\u001b[0m\u001b[0m\n\u001b[0m\u001b[1;32m    719\u001b[0m             \u001b[0mself\u001b[0m\u001b[0;34m.\u001b[0m\u001b[0mcoef_\u001b[0m \u001b[0;34m=\u001b[0m \u001b[0mself\u001b[0m\u001b[0;34m.\u001b[0m\u001b[0mcoef_\u001b[0m\u001b[0;34m.\u001b[0m\u001b[0mT\u001b[0m\u001b[0;34m\u001b[0m\u001b[0;34m\u001b[0m\u001b[0m\n\u001b[1;32m    720\u001b[0m \u001b[0;34m\u001b[0m\u001b[0m\n",
      "\u001b[0;32m~/.conda/envs/Code/lib/python3.9/site-packages/scipy/linalg/basic.py\u001b[0m in \u001b[0;36mlstsq\u001b[0;34m(a, b, cond, overwrite_a, overwrite_b, check_finite, lapack_driver)\u001b[0m\n\u001b[1;32m   1202\u001b[0m             \u001b[0;32mif\u001b[0m \u001b[0mreal_data\u001b[0m\u001b[0;34m:\u001b[0m\u001b[0;34m\u001b[0m\u001b[0;34m\u001b[0m\u001b[0m\n\u001b[1;32m   1203\u001b[0m                 \u001b[0mlwork\u001b[0m\u001b[0;34m,\u001b[0m \u001b[0miwork\u001b[0m \u001b[0;34m=\u001b[0m \u001b[0m_compute_lwork\u001b[0m\u001b[0;34m(\u001b[0m\u001b[0mlapack_lwork\u001b[0m\u001b[0;34m,\u001b[0m \u001b[0mm\u001b[0m\u001b[0;34m,\u001b[0m \u001b[0mn\u001b[0m\u001b[0;34m,\u001b[0m \u001b[0mnrhs\u001b[0m\u001b[0;34m,\u001b[0m \u001b[0mcond\u001b[0m\u001b[0;34m)\u001b[0m\u001b[0;34m\u001b[0m\u001b[0;34m\u001b[0m\u001b[0m\n\u001b[0;32m-> 1204\u001b[0;31m                 x, s, rank, info = lapack_func(a1, b1, lwork,\n\u001b[0m\u001b[1;32m   1205\u001b[0m                                                iwork, cond, False, False)\n\u001b[1;32m   1206\u001b[0m             \u001b[0;32melse\u001b[0m\u001b[0;34m:\u001b[0m  \u001b[0;31m# complex data\u001b[0m\u001b[0;34m\u001b[0m\u001b[0;34m\u001b[0m\u001b[0m\n",
      "\u001b[0;31mKeyboardInterrupt\u001b[0m: "
     ]
    }
   ],
   "source": [
    "from sklearn.linear_model import LinearRegression\n",
    "from tqdm import tqdm \n",
    "for column in bigdata.columns:\n",
    "    y = bigdata[column]\n",
    "    reg = LinearRegression(fit_intercept=False, n_jobs=10).fit(X, y)\n",
    "    high_cov = reg.coef_.argsort()[::-1]\n",
    "    y_pred = reg.coef_[high_cov[0]] * X.iloc[:,high_cov[0]] + reg.coef_[high_cov[1]] * X.iloc[:,high_cov[1]]\n",
    "    #y_pred = reg.predict(X)\n",
    "    print(X.iloc[:,high_cov[0]].name, X.iloc[:,high_cov[1]].name)\n",
    "    print(pearsonr(bigdata[column], y_pred)[0])"
   ]
  },
  {
   "cell_type": "code",
   "execution_count": null,
   "id": "b30701c6",
   "metadata": {},
   "outputs": [],
   "source": []
  }
 ],
 "metadata": {
  "kernelspec": {
   "display_name": "Python 3 (ipykernel)",
   "language": "python",
   "name": "python3"
  },
  "language_info": {
   "codemirror_mode": {
    "name": "ipython",
    "version": 3
   },
   "file_extension": ".py",
   "mimetype": "text/x-python",
   "name": "python",
   "nbconvert_exporter": "python",
   "pygments_lexer": "ipython3",
   "version": "3.9.7"
  }
 },
 "nbformat": 4,
 "nbformat_minor": 5
}
