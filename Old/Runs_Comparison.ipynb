{
 "cells": [
  {
   "cell_type": "code",
   "execution_count": 5,
   "id": "86cd4deb",
   "metadata": {},
   "outputs": [],
   "source": [
    "import pandas as pd\n",
    "import numpy as np\n",
    "from tqdm import tqdm"
   ]
  },
  {
   "cell_type": "code",
   "execution_count": 7,
   "id": "6dca8d53",
   "metadata": {},
   "outputs": [],
   "source": [
    "one_run = pd.read_csv('/home/MarkF/DivideConquer/Results/10_Runs/'\n",
    "                 'ica_run_1_independent_components.tsv', sep='\\t', index_col=0)\n",
    "one_run.columns = [f'{x}_1' for x in one_run.columns]\n",
    "ten_runs = pd.read_csv('/home/MarkF/DivideConquer/Results/10_Runs/'\n",
    "                 'ica_independent_components_consensus.tsv', sep='\\t', index_col=0)\n",
    "ten_runs.columns = [f'{x}_10' for x in ten_runs.columns]\n",
    "\n",
    "\n",
    "eleven_runs = pd.read_csv('/home/MarkF/DivideConquer/Results/11_Runs/'\n",
    "                 'ica_independent_components_consensus.tsv', sep='\\t', index_col=0)\n",
    "eleven_runs.columns = [f'{x}_11' for x in eleven_runs.columns]\n",
    "twenty_five_runs = pd.read_csv('/home/MarkF/DivideConquer/Results/MathExperiment/2_Split/One_Normalized/ICARUN_ALL/'\n",
    "                 'ica_independent_components_consensus.tsv', sep='\\t', index_col=0)\n",
    "twenty_five_runs.columns = [f'{x}_25' for x in twenty_five_runs.columns]\n",
    "fifty_runs = pd.read_csv('/home/MarkF/DivideConquer/Results/50_Runs/'\n",
    "                 'ica_independent_components_consensus.tsv', sep='\\t', index_col=0)\n",
    "fifty_runs.columns = [f'{x}_50' for x in fifty_runs.columns]\n",
    "hunderd_runs = pd.read_csv('/home/MarkF/DivideConquer/Results/100_Runs/'\n",
    "                 'ica_independent_components_consensus.tsv', sep='\\t', index_col=0)\n",
    "hunderd_runs.columns = [f'{x}_100' for x in hunderd_runs.columns]\n"
   ]
  },
  {
   "cell_type": "code",
   "execution_count": 8,
   "id": "161180e3",
   "metadata": {},
   "outputs": [
    {
     "data": {
      "text/plain": [
       "(19635, 1996)"
      ]
     },
     "execution_count": 8,
     "metadata": {},
     "output_type": "execute_result"
    }
   ],
   "source": [
    "one_run.shape"
   ]
  },
  {
   "cell_type": "code",
   "execution_count": 9,
   "id": "17d4d4ae",
   "metadata": {},
   "outputs": [
    {
     "data": {
      "text/plain": [
       "(19635, 1912)"
      ]
     },
     "execution_count": 9,
     "metadata": {},
     "output_type": "execute_result"
    }
   ],
   "source": [
    "ten_runs.shape"
   ]
  },
  {
   "cell_type": "code",
   "execution_count": 10,
   "id": "c91c2a36",
   "metadata": {},
   "outputs": [
    {
     "data": {
      "text/plain": [
       "(19635, 165)"
      ]
     },
     "execution_count": 10,
     "metadata": {},
     "output_type": "execute_result"
    }
   ],
   "source": [
    "eleven_runs.shape"
   ]
  },
  {
   "cell_type": "code",
   "execution_count": 11,
   "id": "1f79efb9",
   "metadata": {},
   "outputs": [
    {
     "data": {
      "text/plain": [
       "(19635, 171)"
      ]
     },
     "execution_count": 11,
     "metadata": {},
     "output_type": "execute_result"
    }
   ],
   "source": [
    "twenty_five_runs.shape"
   ]
  },
  {
   "cell_type": "code",
   "execution_count": 12,
   "id": "7dcf3228",
   "metadata": {},
   "outputs": [
    {
     "data": {
      "text/plain": [
       "(19635, 179)"
      ]
     },
     "execution_count": 12,
     "metadata": {},
     "output_type": "execute_result"
    }
   ],
   "source": [
    "fifty_runs.shape"
   ]
  },
  {
   "cell_type": "code",
   "execution_count": 13,
   "id": "43687293",
   "metadata": {},
   "outputs": [
    {
     "data": {
      "text/plain": [
       "(19635, 170)"
      ]
     },
     "execution_count": 13,
     "metadata": {},
     "output_type": "execute_result"
    }
   ],
   "source": [
    "hunderd_runs.shape"
   ]
  },
  {
   "cell_type": "code",
   "execution_count": 14,
   "id": "2c00f89c",
   "metadata": {},
   "outputs": [],
   "source": [
    "df = twenty_five_runs.join(fifty_runs)\n",
    "df = df.join(hunderd_runs)\n",
    "df = df.join(eleven_runs)\n",
    "df = df.join(ten_runs)\n",
    "df = df.join(one_run)\n",
    "correlation = np.corrcoef(df.values, rowvar=False)\n",
    "correlation = np.absolute(correlation)\n",
    "correlation = pd.DataFrame(correlation, columns=df.columns, index=df.columns)\n",
    "#correlation = correlation.loc[twenty_five_runs.columns, fifty_runs.columns]"
   ]
  },
  {
   "cell_type": "code",
   "execution_count": 15,
   "id": "64f3b3df",
   "metadata": {},
   "outputs": [],
   "source": [
    "import seaborn as sns\n",
    "import matplotlib.pyplot as plt"
   ]
  },
  {
   "cell_type": "code",
   "execution_count": 25,
   "id": "16cc516c",
   "metadata": {},
   "outputs": [
    {
     "data": {
      "text/plain": [
       "1844"
      ]
     },
     "execution_count": 25,
     "metadata": {},
     "output_type": "execute_result"
    }
   ],
   "source": [
    "cols = hunderd_runs.columns\n",
    "#index = [x for x in correlation.columns if x not in cols]\n",
    "index =  one_run.columns\n",
    "sum(correlation.loc[index, cols].max(axis=1).sort_values() < 0.6)"
   ]
  },
  {
   "cell_type": "code",
   "execution_count": 26,
   "id": "ad6f214a",
   "metadata": {},
   "outputs": [
    {
     "data": {
      "text/plain": [
       "1747"
      ]
     },
     "execution_count": 26,
     "metadata": {},
     "output_type": "execute_result"
    }
   ],
   "source": [
    "cols = hunderd_runs.columns\n",
    "#index = [x for x in correlation.columns if x not in cols]\n",
    "index =  ten_runs.columns\n",
    "sum(correlation.loc[index, cols].max(axis=1).sort_values() < 0.6)"
   ]
  },
  {
   "cell_type": "code",
   "execution_count": 27,
   "id": "25633a34",
   "metadata": {
    "scrolled": true
   },
   "outputs": [
    {
     "data": {
      "text/plain": [
       "5"
      ]
     },
     "execution_count": 27,
     "metadata": {},
     "output_type": "execute_result"
    }
   ],
   "source": [
    "cols = hunderd_runs.columns\n",
    "#index = [x for x in correlation.columns if x not in cols]\n",
    "index =  eleven_runs.columns\n",
    "sum(correlation.loc[index, cols].max(axis=1).sort_values() < 0.6)"
   ]
  },
  {
   "cell_type": "code",
   "execution_count": 28,
   "id": "7cfd5dd7",
   "metadata": {},
   "outputs": [
    {
     "data": {
      "text/plain": [
       "7"
      ]
     },
     "execution_count": 28,
     "metadata": {},
     "output_type": "execute_result"
    }
   ],
   "source": [
    "cols = hunderd_runs.columns\n",
    "#index = [x for x in correlation.columns if x not in cols]\n",
    "index =  twenty_five_runs.columns\n",
    "sum(correlation.loc[index, cols].max(axis=1).sort_values() < 0.6)"
   ]
  },
  {
   "cell_type": "code",
   "execution_count": 29,
   "id": "a3d99619",
   "metadata": {},
   "outputs": [
    {
     "data": {
      "text/plain": [
       "10"
      ]
     },
     "execution_count": 29,
     "metadata": {},
     "output_type": "execute_result"
    }
   ],
   "source": [
    "cols = hunderd_runs.columns\n",
    "#index = [x for x in correlation.columns if x not in cols]\n",
    "index =  fifty_runs.columns\n",
    "sum(correlation.loc[index, cols].max(axis=1).sort_values() < 0.6)"
   ]
  },
  {
   "cell_type": "code",
   "execution_count": 13,
   "id": "b229dabd",
   "metadata": {},
   "outputs": [
    {
     "data": {
      "text/plain": [
       "1"
      ]
     },
     "execution_count": 13,
     "metadata": {},
     "output_type": "execute_result"
    }
   ],
   "source": [
    "cols = hunderd_runs.columns\n",
    "#index = [x for x in correlation.columns if x not in cols]\n",
    "index =  fifty_runs.columns\n",
    "sum(correlation.loc[index, cols].max(axis=0).sort_values() < 0.6)"
   ]
  },
  {
   "cell_type": "code",
   "execution_count": 19,
   "id": "b626c3b1",
   "metadata": {
    "scrolled": true
   },
   "outputs": [
    {
     "data": {
      "text/plain": [
       "consensus independent component 152_100    0.026596\n",
       "consensus independent component 169_100    0.027262\n",
       "consensus independent component 156_100    0.048159\n",
       "consensus independent component 164_100    0.065778\n",
       "consensus independent component 163_100    0.081092\n",
       "                                             ...   \n",
       "consensus independent component 55_100     0.969339\n",
       "consensus independent component 67_100     0.969464\n",
       "consensus independent component 50_100     0.971058\n",
       "consensus independent component 59_100     0.972404\n",
       "consensus independent component 54_100     0.983553\n",
       "Length: 170, dtype: float64"
      ]
     },
     "execution_count": 19,
     "metadata": {},
     "output_type": "execute_result"
    }
   ],
   "source": [
    "index =  eleven_runs.columns\n",
    "correlation.loc[index, cols].max(axis=0).sort_values()"
   ]
  },
  {
   "cell_type": "code",
   "execution_count": 73,
   "id": "3ded6b0c",
   "metadata": {},
   "outputs": [
    {
     "data": {
      "text/html": [
       "\n",
       "    <div class=\"bk-root\">\n",
       "        <a href=\"https://bokeh.org\" target=\"_blank\" class=\"bk-logo bk-logo-small bk-logo-notebook\"></a>\n",
       "        <span id=\"1636\">Loading BokehJS ...</span>\n",
       "    </div>"
      ]
     },
     "metadata": {},
     "output_type": "display_data"
    },
    {
     "data": {
      "application/javascript": [
       "\n",
       "(function(root) {\n",
       "  function now() {\n",
       "    return new Date();\n",
       "  }\n",
       "\n",
       "  const force = true;\n",
       "\n",
       "  if (typeof root._bokeh_onload_callbacks === \"undefined\" || force === true) {\n",
       "    root._bokeh_onload_callbacks = [];\n",
       "    root._bokeh_is_loading = undefined;\n",
       "  }\n",
       "\n",
       "  const JS_MIME_TYPE = 'application/javascript';\n",
       "  const HTML_MIME_TYPE = 'text/html';\n",
       "  const EXEC_MIME_TYPE = 'application/vnd.bokehjs_exec.v0+json';\n",
       "  const CLASS_NAME = 'output_bokeh rendered_html';\n",
       "\n",
       "  /**\n",
       "   * Render data to the DOM node\n",
       "   */\n",
       "  function render(props, node) {\n",
       "    const script = document.createElement(\"script\");\n",
       "    node.appendChild(script);\n",
       "  }\n",
       "\n",
       "  /**\n",
       "   * Handle when an output is cleared or removed\n",
       "   */\n",
       "  function handleClearOutput(event, handle) {\n",
       "    const cell = handle.cell;\n",
       "\n",
       "    const id = cell.output_area._bokeh_element_id;\n",
       "    const server_id = cell.output_area._bokeh_server_id;\n",
       "    // Clean up Bokeh references\n",
       "    if (id != null && id in Bokeh.index) {\n",
       "      Bokeh.index[id].model.document.clear();\n",
       "      delete Bokeh.index[id];\n",
       "    }\n",
       "\n",
       "    if (server_id !== undefined) {\n",
       "      // Clean up Bokeh references\n",
       "      const cmd_clean = \"from bokeh.io.state import curstate; print(curstate().uuid_to_server['\" + server_id + \"'].get_sessions()[0].document.roots[0]._id)\";\n",
       "      cell.notebook.kernel.execute(cmd_clean, {\n",
       "        iopub: {\n",
       "          output: function(msg) {\n",
       "            const id = msg.content.text.trim();\n",
       "            if (id in Bokeh.index) {\n",
       "              Bokeh.index[id].model.document.clear();\n",
       "              delete Bokeh.index[id];\n",
       "            }\n",
       "          }\n",
       "        }\n",
       "      });\n",
       "      // Destroy server and session\n",
       "      const cmd_destroy = \"import bokeh.io.notebook as ion; ion.destroy_server('\" + server_id + \"')\";\n",
       "      cell.notebook.kernel.execute(cmd_destroy);\n",
       "    }\n",
       "  }\n",
       "\n",
       "  /**\n",
       "   * Handle when a new output is added\n",
       "   */\n",
       "  function handleAddOutput(event, handle) {\n",
       "    const output_area = handle.output_area;\n",
       "    const output = handle.output;\n",
       "\n",
       "    // limit handleAddOutput to display_data with EXEC_MIME_TYPE content only\n",
       "    if ((output.output_type != \"display_data\") || (!Object.prototype.hasOwnProperty.call(output.data, EXEC_MIME_TYPE))) {\n",
       "      return\n",
       "    }\n",
       "\n",
       "    const toinsert = output_area.element.find(\".\" + CLASS_NAME.split(' ')[0]);\n",
       "\n",
       "    if (output.metadata[EXEC_MIME_TYPE][\"id\"] !== undefined) {\n",
       "      toinsert[toinsert.length - 1].firstChild.textContent = output.data[JS_MIME_TYPE];\n",
       "      // store reference to embed id on output_area\n",
       "      output_area._bokeh_element_id = output.metadata[EXEC_MIME_TYPE][\"id\"];\n",
       "    }\n",
       "    if (output.metadata[EXEC_MIME_TYPE][\"server_id\"] !== undefined) {\n",
       "      const bk_div = document.createElement(\"div\");\n",
       "      bk_div.innerHTML = output.data[HTML_MIME_TYPE];\n",
       "      const script_attrs = bk_div.children[0].attributes;\n",
       "      for (let i = 0; i < script_attrs.length; i++) {\n",
       "        toinsert[toinsert.length - 1].firstChild.setAttribute(script_attrs[i].name, script_attrs[i].value);\n",
       "        toinsert[toinsert.length - 1].firstChild.textContent = bk_div.children[0].textContent\n",
       "      }\n",
       "      // store reference to server id on output_area\n",
       "      output_area._bokeh_server_id = output.metadata[EXEC_MIME_TYPE][\"server_id\"];\n",
       "    }\n",
       "  }\n",
       "\n",
       "  function register_renderer(events, OutputArea) {\n",
       "\n",
       "    function append_mime(data, metadata, element) {\n",
       "      // create a DOM node to render to\n",
       "      const toinsert = this.create_output_subarea(\n",
       "        metadata,\n",
       "        CLASS_NAME,\n",
       "        EXEC_MIME_TYPE\n",
       "      );\n",
       "      this.keyboard_manager.register_events(toinsert);\n",
       "      // Render to node\n",
       "      const props = {data: data, metadata: metadata[EXEC_MIME_TYPE]};\n",
       "      render(props, toinsert[toinsert.length - 1]);\n",
       "      element.append(toinsert);\n",
       "      return toinsert\n",
       "    }\n",
       "\n",
       "    /* Handle when an output is cleared or removed */\n",
       "    events.on('clear_output.CodeCell', handleClearOutput);\n",
       "    events.on('delete.Cell', handleClearOutput);\n",
       "\n",
       "    /* Handle when a new output is added */\n",
       "    events.on('output_added.OutputArea', handleAddOutput);\n",
       "\n",
       "    /**\n",
       "     * Register the mime type and append_mime function with output_area\n",
       "     */\n",
       "    OutputArea.prototype.register_mime_type(EXEC_MIME_TYPE, append_mime, {\n",
       "      /* Is output safe? */\n",
       "      safe: true,\n",
       "      /* Index of renderer in `output_area.display_order` */\n",
       "      index: 0\n",
       "    });\n",
       "  }\n",
       "\n",
       "  // register the mime type if in Jupyter Notebook environment and previously unregistered\n",
       "  if (root.Jupyter !== undefined) {\n",
       "    const events = require('base/js/events');\n",
       "    const OutputArea = require('notebook/js/outputarea').OutputArea;\n",
       "\n",
       "    if (OutputArea.prototype.mime_types().indexOf(EXEC_MIME_TYPE) == -1) {\n",
       "      register_renderer(events, OutputArea);\n",
       "    }\n",
       "  }\n",
       "\n",
       "  \n",
       "  if (typeof (root._bokeh_timeout) === \"undefined\" || force === true) {\n",
       "    root._bokeh_timeout = Date.now() + 5000;\n",
       "    root._bokeh_failed_load = false;\n",
       "  }\n",
       "\n",
       "  const NB_LOAD_WARNING = {'data': {'text/html':\n",
       "     \"<div style='background-color: #fdd'>\\n\"+\n",
       "     \"<p>\\n\"+\n",
       "     \"BokehJS does not appear to have successfully loaded. If loading BokehJS from CDN, this \\n\"+\n",
       "     \"may be due to a slow or bad network connection. Possible fixes:\\n\"+\n",
       "     \"</p>\\n\"+\n",
       "     \"<ul>\\n\"+\n",
       "     \"<li>re-rerun `output_notebook()` to attempt to load from CDN again, or</li>\\n\"+\n",
       "     \"<li>use INLINE resources instead, as so:</li>\\n\"+\n",
       "     \"</ul>\\n\"+\n",
       "     \"<code>\\n\"+\n",
       "     \"from bokeh.resources import INLINE\\n\"+\n",
       "     \"output_notebook(resources=INLINE)\\n\"+\n",
       "     \"</code>\\n\"+\n",
       "     \"</div>\"}};\n",
       "\n",
       "  function display_loaded() {\n",
       "    const el = document.getElementById(\"1636\");\n",
       "    if (el != null) {\n",
       "      el.textContent = \"BokehJS is loading...\";\n",
       "    }\n",
       "    if (root.Bokeh !== undefined) {\n",
       "      if (el != null) {\n",
       "        el.textContent = \"BokehJS \" + root.Bokeh.version + \" successfully loaded.\";\n",
       "      }\n",
       "    } else if (Date.now() < root._bokeh_timeout) {\n",
       "      setTimeout(display_loaded, 100)\n",
       "    }\n",
       "  }\n",
       "\n",
       "\n",
       "  function run_callbacks() {\n",
       "    try {\n",
       "      root._bokeh_onload_callbacks.forEach(function(callback) {\n",
       "        if (callback != null)\n",
       "          callback();\n",
       "      });\n",
       "    } finally {\n",
       "      delete root._bokeh_onload_callbacks\n",
       "    }\n",
       "    console.debug(\"Bokeh: all callbacks have finished\");\n",
       "  }\n",
       "\n",
       "  function load_libs(css_urls, js_urls, callback) {\n",
       "    if (css_urls == null) css_urls = [];\n",
       "    if (js_urls == null) js_urls = [];\n",
       "\n",
       "    root._bokeh_onload_callbacks.push(callback);\n",
       "    if (root._bokeh_is_loading > 0) {\n",
       "      console.debug(\"Bokeh: BokehJS is being loaded, scheduling callback at\", now());\n",
       "      return null;\n",
       "    }\n",
       "    if (js_urls == null || js_urls.length === 0) {\n",
       "      run_callbacks();\n",
       "      return null;\n",
       "    }\n",
       "    console.debug(\"Bokeh: BokehJS not loaded, scheduling load and callback at\", now());\n",
       "    root._bokeh_is_loading = css_urls.length + js_urls.length;\n",
       "\n",
       "    function on_load() {\n",
       "      root._bokeh_is_loading--;\n",
       "      if (root._bokeh_is_loading === 0) {\n",
       "        console.debug(\"Bokeh: all BokehJS libraries/stylesheets loaded\");\n",
       "        run_callbacks()\n",
       "      }\n",
       "    }\n",
       "\n",
       "    function on_error(url) {\n",
       "      console.error(\"failed to load \" + url);\n",
       "    }\n",
       "\n",
       "    for (let i = 0; i < css_urls.length; i++) {\n",
       "      const url = css_urls[i];\n",
       "      const element = document.createElement(\"link\");\n",
       "      element.onload = on_load;\n",
       "      element.onerror = on_error.bind(null, url);\n",
       "      element.rel = \"stylesheet\";\n",
       "      element.type = \"text/css\";\n",
       "      element.href = url;\n",
       "      console.debug(\"Bokeh: injecting link tag for BokehJS stylesheet: \", url);\n",
       "      document.body.appendChild(element);\n",
       "    }\n",
       "\n",
       "    for (let i = 0; i < js_urls.length; i++) {\n",
       "      const url = js_urls[i];\n",
       "      const element = document.createElement('script');\n",
       "      element.onload = on_load;\n",
       "      element.onerror = on_error.bind(null, url);\n",
       "      element.async = false;\n",
       "      element.src = url;\n",
       "      console.debug(\"Bokeh: injecting script tag for BokehJS library: \", url);\n",
       "      document.head.appendChild(element);\n",
       "    }\n",
       "  };\n",
       "\n",
       "  function inject_raw_css(css) {\n",
       "    const element = document.createElement(\"style\");\n",
       "    element.appendChild(document.createTextNode(css));\n",
       "    document.body.appendChild(element);\n",
       "  }\n",
       "\n",
       "  \n",
       "  const js_urls = [\"https://cdn.bokeh.org/bokeh/release/bokeh-2.4.1.min.js\", \"https://cdn.bokeh.org/bokeh/release/bokeh-gl-2.4.1.min.js\", \"https://cdn.bokeh.org/bokeh/release/bokeh-widgets-2.4.1.min.js\", \"https://cdn.bokeh.org/bokeh/release/bokeh-tables-2.4.1.min.js\", \"https://cdn.bokeh.org/bokeh/release/bokeh-mathjax-2.4.1.min.js\", \"https://unpkg.com/@holoviz/panel@0.12.4/dist/panel.min.js\"];\n",
       "  const css_urls = [];\n",
       "  \n",
       "\n",
       "  const inline_js = [\n",
       "    function(Bokeh) {\n",
       "      Bokeh.set_log_level(\"info\");\n",
       "    },\n",
       "    function(Bokeh) {\n",
       "    \n",
       "    \n",
       "    }\n",
       "  ];\n",
       "\n",
       "  function run_inline_js() {\n",
       "    \n",
       "    if (root.Bokeh !== undefined || force === true) {\n",
       "      \n",
       "    for (let i = 0; i < inline_js.length; i++) {\n",
       "      inline_js[i].call(root, root.Bokeh);\n",
       "    }\n",
       "    if (force === true) {\n",
       "        display_loaded();\n",
       "      }} else if (Date.now() < root._bokeh_timeout) {\n",
       "      setTimeout(run_inline_js, 100);\n",
       "    } else if (!root._bokeh_failed_load) {\n",
       "      console.log(\"Bokeh: BokehJS failed to load within specified timeout.\");\n",
       "      root._bokeh_failed_load = true;\n",
       "    } else if (force !== true) {\n",
       "      const cell = $(document.getElementById(\"1636\")).parents('.cell').data().cell;\n",
       "      cell.output_area.append_execute_result(NB_LOAD_WARNING)\n",
       "    }\n",
       "\n",
       "  }\n",
       "\n",
       "  if (root._bokeh_is_loading === 0) {\n",
       "    console.debug(\"Bokeh: BokehJS loaded, going straight to plotting\");\n",
       "    run_inline_js();\n",
       "  } else {\n",
       "    load_libs(css_urls, js_urls, function() {\n",
       "      console.debug(\"Bokeh: BokehJS plotting callback run at\", now());\n",
       "      run_inline_js();\n",
       "    });\n",
       "  }\n",
       "}(window));"
      ],
      "application/vnd.bokehjs_load.v0+json": "\n(function(root) {\n  function now() {\n    return new Date();\n  }\n\n  const force = true;\n\n  if (typeof root._bokeh_onload_callbacks === \"undefined\" || force === true) {\n    root._bokeh_onload_callbacks = [];\n    root._bokeh_is_loading = undefined;\n  }\n\n  \n\n  \n  if (typeof (root._bokeh_timeout) === \"undefined\" || force === true) {\n    root._bokeh_timeout = Date.now() + 5000;\n    root._bokeh_failed_load = false;\n  }\n\n  const NB_LOAD_WARNING = {'data': {'text/html':\n     \"<div style='background-color: #fdd'>\\n\"+\n     \"<p>\\n\"+\n     \"BokehJS does not appear to have successfully loaded. If loading BokehJS from CDN, this \\n\"+\n     \"may be due to a slow or bad network connection. Possible fixes:\\n\"+\n     \"</p>\\n\"+\n     \"<ul>\\n\"+\n     \"<li>re-rerun `output_notebook()` to attempt to load from CDN again, or</li>\\n\"+\n     \"<li>use INLINE resources instead, as so:</li>\\n\"+\n     \"</ul>\\n\"+\n     \"<code>\\n\"+\n     \"from bokeh.resources import INLINE\\n\"+\n     \"output_notebook(resources=INLINE)\\n\"+\n     \"</code>\\n\"+\n     \"</div>\"}};\n\n  function display_loaded() {\n    const el = document.getElementById(\"1636\");\n    if (el != null) {\n      el.textContent = \"BokehJS is loading...\";\n    }\n    if (root.Bokeh !== undefined) {\n      if (el != null) {\n        el.textContent = \"BokehJS \" + root.Bokeh.version + \" successfully loaded.\";\n      }\n    } else if (Date.now() < root._bokeh_timeout) {\n      setTimeout(display_loaded, 100)\n    }\n  }\n\n\n  function run_callbacks() {\n    try {\n      root._bokeh_onload_callbacks.forEach(function(callback) {\n        if (callback != null)\n          callback();\n      });\n    } finally {\n      delete root._bokeh_onload_callbacks\n    }\n    console.debug(\"Bokeh: all callbacks have finished\");\n  }\n\n  function load_libs(css_urls, js_urls, callback) {\n    if (css_urls == null) css_urls = [];\n    if (js_urls == null) js_urls = [];\n\n    root._bokeh_onload_callbacks.push(callback);\n    if (root._bokeh_is_loading > 0) {\n      console.debug(\"Bokeh: BokehJS is being loaded, scheduling callback at\", now());\n      return null;\n    }\n    if (js_urls == null || js_urls.length === 0) {\n      run_callbacks();\n      return null;\n    }\n    console.debug(\"Bokeh: BokehJS not loaded, scheduling load and callback at\", now());\n    root._bokeh_is_loading = css_urls.length + js_urls.length;\n\n    function on_load() {\n      root._bokeh_is_loading--;\n      if (root._bokeh_is_loading === 0) {\n        console.debug(\"Bokeh: all BokehJS libraries/stylesheets loaded\");\n        run_callbacks()\n      }\n    }\n\n    function on_error(url) {\n      console.error(\"failed to load \" + url);\n    }\n\n    for (let i = 0; i < css_urls.length; i++) {\n      const url = css_urls[i];\n      const element = document.createElement(\"link\");\n      element.onload = on_load;\n      element.onerror = on_error.bind(null, url);\n      element.rel = \"stylesheet\";\n      element.type = \"text/css\";\n      element.href = url;\n      console.debug(\"Bokeh: injecting link tag for BokehJS stylesheet: \", url);\n      document.body.appendChild(element);\n    }\n\n    for (let i = 0; i < js_urls.length; i++) {\n      const url = js_urls[i];\n      const element = document.createElement('script');\n      element.onload = on_load;\n      element.onerror = on_error.bind(null, url);\n      element.async = false;\n      element.src = url;\n      console.debug(\"Bokeh: injecting script tag for BokehJS library: \", url);\n      document.head.appendChild(element);\n    }\n  };\n\n  function inject_raw_css(css) {\n    const element = document.createElement(\"style\");\n    element.appendChild(document.createTextNode(css));\n    document.body.appendChild(element);\n  }\n\n  \n  const js_urls = [\"https://cdn.bokeh.org/bokeh/release/bokeh-2.4.1.min.js\", \"https://cdn.bokeh.org/bokeh/release/bokeh-gl-2.4.1.min.js\", \"https://cdn.bokeh.org/bokeh/release/bokeh-widgets-2.4.1.min.js\", \"https://cdn.bokeh.org/bokeh/release/bokeh-tables-2.4.1.min.js\", \"https://cdn.bokeh.org/bokeh/release/bokeh-mathjax-2.4.1.min.js\", \"https://unpkg.com/@holoviz/panel@0.12.4/dist/panel.min.js\"];\n  const css_urls = [];\n  \n\n  const inline_js = [\n    function(Bokeh) {\n      Bokeh.set_log_level(\"info\");\n    },\n    function(Bokeh) {\n    \n    \n    }\n  ];\n\n  function run_inline_js() {\n    \n    if (root.Bokeh !== undefined || force === true) {\n      \n    for (let i = 0; i < inline_js.length; i++) {\n      inline_js[i].call(root, root.Bokeh);\n    }\n    if (force === true) {\n        display_loaded();\n      }} else if (Date.now() < root._bokeh_timeout) {\n      setTimeout(run_inline_js, 100);\n    } else if (!root._bokeh_failed_load) {\n      console.log(\"Bokeh: BokehJS failed to load within specified timeout.\");\n      root._bokeh_failed_load = true;\n    } else if (force !== true) {\n      const cell = $(document.getElementById(\"1636\")).parents('.cell').data().cell;\n      cell.output_area.append_execute_result(NB_LOAD_WARNING)\n    }\n\n  }\n\n  if (root._bokeh_is_loading === 0) {\n    console.debug(\"Bokeh: BokehJS loaded, going straight to plotting\");\n    run_inline_js();\n  } else {\n    load_libs(css_urls, js_urls, function() {\n      console.debug(\"Bokeh: BokehJS plotting callback run at\", now());\n      run_inline_js();\n    });\n  }\n}(window));"
     },
     "metadata": {},
     "output_type": "display_data"
    }
   ],
   "source": [
    "from bokeh.models.sources import ColumnDataSource\n",
    "from bokeh.plotting import figure\n",
    "from bokeh.io import output_notebook, show, push_notebook\n",
    "output_notebook()"
   ]
  },
  {
   "cell_type": "code",
   "execution_count": null,
   "id": "e8a11d56",
   "metadata": {},
   "outputs": [
    {
     "data": {
      "text/html": [
       "\n",
       "\n",
       "\n",
       "\n",
       "\n",
       "\n",
       "  <div class=\"bk-root\" id=\"7eff5ea3-f8a1-4ca0-a360-f2b1b3551053\" data-root-id=\"3420\"></div>\n"
      ]
     },
     "metadata": {},
     "output_type": "display_data"
    },
    {
     "data": {
      "application/javascript": [
       "(function(root) {\n",
       "  function embed_document(root) {\n",
       "    \n",
       "  const docs_json = {\"65df3f44-6c2d-4f07-b67b-b888cab2d959\":{\"defs\":[{\"extends\":null,\"module\":null,\"name\":\"ReactiveHTML1\",\"overrides\":[],\"properties\":[]},{\"extends\":null,\"module\":null,\"name\":\"FlexBox1\",\"overrides\":[],\"properties\":[{\"default\":\"flex-start\",\"kind\":null,\"name\":\"align_content\"},{\"default\":\"flex-start\",\"kind\":null,\"name\":\"align_items\"},{\"default\":\"row\",\"kind\":null,\"name\":\"flex_direction\"},{\"default\":\"wrap\",\"kind\":null,\"name\":\"flex_wrap\"},{\"default\":\"flex-start\",\"kind\":null,\"name\":\"justify_content\"}]},{\"extends\":null,\"module\":null,\"name\":\"TemplateActions1\",\"overrides\":[],\"properties\":[{\"default\":0,\"kind\":null,\"name\":\"open_modal\"},{\"default\":0,\"kind\":null,\"name\":\"close_modal\"}]},{\"extends\":null,\"module\":null,\"name\":\"MaterialTemplateActions1\",\"overrides\":[],\"properties\":[{\"default\":0,\"kind\":null,\"name\":\"open_modal\"},{\"default\":0,\"kind\":null,\"name\":\"close_modal\"}]}],\"roots\":{\"references\":[{\"attributes\":{\"below\":[{\"id\":\"3429\"}],\"center\":[{\"id\":\"3432\"},{\"id\":\"3436\"}],\"height\":400,\"left\":[{\"id\":\"3433\"}],\"renderers\":[{\"id\":\"3456\"}],\"title\":{\"id\":\"3579\"},\"toolbar\":{\"id\":\"3444\"},\"width\":800,\"x_range\":{\"id\":\"3421\"},\"x_scale\":{\"id\":\"3425\"},\"y_range\":{\"id\":\"3423\"},\"y_scale\":{\"id\":\"3427\"}},\"id\":\"3420\",\"subtype\":\"Figure\",\"type\":\"Plot\"},{\"attributes\":{\"bottom_units\":\"screen\",\"coordinates\":null,\"fill_alpha\":0.5,\"fill_color\":\"lightgrey\",\"group\":null,\"left_units\":\"screen\",\"level\":\"overlay\",\"line_alpha\":1.0,\"line_color\":\"black\",\"line_dash\":[4,4],\"line_width\":2,\"right_units\":\"screen\",\"syncable\":false,\"top_units\":\"screen\"},\"id\":\"3443\",\"type\":\"BoxAnnotation\"},{\"attributes\":{},\"id\":\"3442\",\"type\":\"HelpTool\"},{\"attributes\":{\"axis\":{\"id\":\"3429\"},\"coordinates\":null,\"group\":null,\"ticker\":null},\"id\":\"3432\",\"type\":\"Grid\"},{\"attributes\":{\"coordinates\":null,\"formatter\":{\"id\":\"3582\"},\"group\":null,\"major_label_policy\":{\"id\":\"3583\"},\"ticker\":{\"id\":\"3434\"}},\"id\":\"3433\",\"type\":\"LinearAxis\"},{\"attributes\":{},\"id\":\"3427\",\"type\":\"LinearScale\"},{\"attributes\":{\"coordinates\":null,\"data_source\":{\"id\":\"3451\"},\"glyph\":{\"id\":\"3453\"},\"group\":null,\"hover_glyph\":null,\"muted_glyph\":{\"id\":\"3455\"},\"nonselection_glyph\":{\"id\":\"3454\"},\"view\":{\"id\":\"3457\"}},\"id\":\"3456\",\"type\":\"GlyphRenderer\"},{\"attributes\":{\"coordinates\":null,\"formatter\":{\"id\":\"3585\"},\"group\":null,\"major_label_policy\":{\"id\":\"3586\"},\"ticker\":{\"id\":\"3430\"}},\"id\":\"3429\",\"type\":\"LinearAxis\"},{\"attributes\":{\"line_color\":\"#1f77b4\",\"x\":{\"field\":\"x\"},\"y\":{\"field\":\"y\"}},\"id\":\"3453\",\"type\":\"Line\"},{\"attributes\":{},\"id\":\"3588\",\"type\":\"Selection\"},{\"attributes\":{},\"id\":\"3587\",\"type\":\"UnionRenderers\"},{\"attributes\":{\"axis\":{\"id\":\"3433\"},\"coordinates\":null,\"dimension\":1,\"group\":null,\"ticker\":null},\"id\":\"3436\",\"type\":\"Grid\"},{\"attributes\":{},\"id\":\"3437\",\"type\":\"PanTool\"},{\"attributes\":{\"coordinates\":null,\"group\":null},\"id\":\"3579\",\"type\":\"Title\"},{\"attributes\":{},\"id\":\"3421\",\"type\":\"DataRange1d\"},{\"attributes\":{\"overlay\":{\"id\":\"3443\"}},\"id\":\"3439\",\"type\":\"BoxZoomTool\"},{\"attributes\":{\"data\":{\"x\":[1],\"y\":[1997]},\"selected\":{\"id\":\"3588\"},\"selection_policy\":{\"id\":\"3587\"}},\"id\":\"3451\",\"type\":\"ColumnDataSource\"},{\"attributes\":{},\"id\":\"3434\",\"type\":\"BasicTicker\"},{\"attributes\":{},\"id\":\"3586\",\"type\":\"AllLabels\"},{\"attributes\":{\"source\":{\"id\":\"3451\"}},\"id\":\"3457\",\"type\":\"CDSView\"},{\"attributes\":{},\"id\":\"3582\",\"type\":\"BasicTickFormatter\"},{\"attributes\":{\"line_alpha\":0.2,\"line_color\":\"#1f77b4\",\"x\":{\"field\":\"x\"},\"y\":{\"field\":\"y\"}},\"id\":\"3455\",\"type\":\"Line\"},{\"attributes\":{},\"id\":\"3438\",\"type\":\"WheelZoomTool\"},{\"attributes\":{},\"id\":\"3583\",\"type\":\"AllLabels\"},{\"attributes\":{},\"id\":\"3440\",\"type\":\"SaveTool\"},{\"attributes\":{\"tools\":[{\"id\":\"3437\"},{\"id\":\"3438\"},{\"id\":\"3439\"},{\"id\":\"3440\"},{\"id\":\"3441\"},{\"id\":\"3442\"}]},\"id\":\"3444\",\"type\":\"Toolbar\"},{\"attributes\":{\"line_alpha\":0.1,\"line_color\":\"#1f77b4\",\"x\":{\"field\":\"x\"},\"y\":{\"field\":\"y\"}},\"id\":\"3454\",\"type\":\"Line\"},{\"attributes\":{},\"id\":\"3423\",\"type\":\"DataRange1d\"},{\"attributes\":{},\"id\":\"3441\",\"type\":\"ResetTool\"},{\"attributes\":{},\"id\":\"3585\",\"type\":\"BasicTickFormatter\"},{\"attributes\":{},\"id\":\"3425\",\"type\":\"LinearScale\"},{\"attributes\":{},\"id\":\"3430\",\"type\":\"BasicTicker\"}],\"root_ids\":[\"3420\"]},\"title\":\"Bokeh Application\",\"version\":\"2.4.1\"}};\n",
       "  const render_items = [{\"docid\":\"65df3f44-6c2d-4f07-b67b-b888cab2d959\",\"notebook_comms_target\":\"3590\",\"root_ids\":[\"3420\"],\"roots\":{\"3420\":\"7eff5ea3-f8a1-4ca0-a360-f2b1b3551053\"}}];\n",
       "  root.Bokeh.embed.embed_items_notebook(docs_json, render_items);\n",
       "\n",
       "  }\n",
       "  if (root.Bokeh !== undefined) {\n",
       "    embed_document(root);\n",
       "  } else {\n",
       "    let attempts = 0;\n",
       "    const timer = setInterval(function(root) {\n",
       "      if (root.Bokeh !== undefined) {\n",
       "        clearInterval(timer);\n",
       "        embed_document(root);\n",
       "      } else {\n",
       "        attempts++;\n",
       "        if (attempts > 100) {\n",
       "          clearInterval(timer);\n",
       "          console.log(\"Bokeh: ERROR: Unable to run BokehJS code because BokehJS library is missing\");\n",
       "        }\n",
       "      }\n",
       "    }, 10, root)\n",
       "  }\n",
       "})(window);"
      ],
      "application/vnd.bokehjs_exec.v0+json": ""
     },
     "metadata": {
      "application/vnd.bokehjs_exec.v0+json": {
       "id": "3420"
      }
     },
     "output_type": "display_data"
    }
   ],
   "source": [
    "old_df = pd.read_csv(f'/home/MarkF/DivideConquer/Results/100_Runs/'\n",
    "                 f'ica_run_1_independent_components.tsv', sep='\\t', index_col=0)\n",
    "old_df.columns = [f'{x}_1' for x in old_df.columns]\n",
    "end_df = old_df.copy()\n",
    "\n",
    "# Figure\n",
    "my_figure = figure(plot_width=800, plot_height=400)\n",
    "test_data = ColumnDataSource(data=dict(x=[1], y=[old_df.shape[1]]))\n",
    "line = my_figure.line(\"x\", \"y\", source=test_data)\n",
    "handle = show(my_figure, notebook_handle=True)\n",
    "\n",
    "\n",
    "x = []\n",
    "y = []\n",
    "\n",
    "\n",
    "for i in range(2,101):\n",
    "    df_new = pd.read_csv(f'/home/MarkF/DivideConquer/Results/100_Runs/'\n",
    "                 f'ica_run_{i}_independent_components.tsv', sep='\\t', index_col=0)\n",
    "    df_new.columns = [f'{x}_{i}' for x in df_new.columns]\n",
    "    end_df = end_df.join(df_new)\n",
    "    correlation = np.corrcoef(end_df.values, rowvar=False)\n",
    "    correlation = np.absolute(correlation)\n",
    "    correlation = pd.DataFrame(correlation, columns=end_df.columns, index=end_df.columns)\n",
    "    index = [x for x in end_df.columns if f'_{i}' in x]\n",
    "    columns = [x for x in end_df.columns if x not in index]\n",
    "    correlation = correlation.loc[index, columns]\n",
    "    x.append(i)\n",
    "    y.append(((correlation.max(axis=1)) <.9).sum())\n",
    "    # Figure\n",
    "    #new_data['x'] = x  \n",
    "    #new_data['y'] = y \n",
    "    test_data.stream({ \"x\": [x[-1]], \"y\": [y[-1]] })\n",
    "    push_notebook(handle=handle)"
   ]
  },
  {
   "cell_type": "code",
   "execution_count": null,
   "id": "ad22b306",
   "metadata": {},
   "outputs": [],
   "source": []
  }
 ],
 "metadata": {
  "kernelspec": {
   "display_name": "Python 3 (ipykernel)",
   "language": "python",
   "name": "python3"
  },
  "language_info": {
   "codemirror_mode": {
    "name": "ipython",
    "version": 3
   },
   "file_extension": ".py",
   "mimetype": "text/x-python",
   "name": "python",
   "nbconvert_exporter": "python",
   "pygments_lexer": "ipython3",
   "version": "3.9.7"
  }
 },
 "nbformat": 4,
 "nbformat_minor": 5
}
