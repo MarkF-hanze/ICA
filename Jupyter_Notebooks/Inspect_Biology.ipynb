{
 "cells": [
  {
   "cell_type": "markdown",
   "id": "1b25a818",
   "metadata": {},
   "source": [
    "# Import the important packages"
   ]
  },
  {
   "cell_type": "code",
   "execution_count": 1,
   "id": "f9824098",
   "metadata": {},
   "outputs": [
    {
     "name": "stderr",
     "output_type": "stream",
     "text": [
      "OMP: Info #276: omp_set_nested routine deprecated, please use omp_set_max_active_levels instead.\n"
     ]
    }
   ],
   "source": [
    "import pandas as pd\n",
    "import numpy as np\n",
    "from tqdm import tqdm\n",
    "\n",
    "from scipy.stats import pearsonr\n",
    "import dcor\n",
    "\n",
    "import seaborn as sns\n",
    "import matplotlib.pyplot as plt\n",
    "\n",
    "from HelperClasses.LoadData import LoadCancer \n",
    "from HelperClasses.Correlation import Correlation  "
   ]
  },
  {
   "cell_type": "code",
   "execution_count": 2,
   "id": "21c4d148",
   "metadata": {},
   "outputs": [
    {
     "name": "stdout",
     "output_type": "stream",
     "text": [
      "Number of components split Lung cancer: 193\n",
      "Number of components split Gastric cancer: 195\n",
      "Number of components split Breast cancer: 339\n",
      "Number of components split Sarcoma: 325\n",
      "Number of components split Colorectal cancer: 190\n",
      "Number of components split Prostate cancer: 106\n",
      "Number of components split Renal cancer: 138\n",
      "Number of components split HCC: 190\n",
      "Number of components split Ovarian cancer: 158\n",
      "Number of components split Lymphoma: 167\n",
      "Number of components split Multiple myeloma: 89\n",
      "Number of components split Normal: 605\n",
      "Number of components split Leukemia: 102\n",
      "Number of components split Adrenal cancer: 113\n",
      "Number of components split Myelodysplastic syndrome: 84\n",
      "Number of components split Brain cancer: 156\n",
      "Number of components split Melanoma: 194\n",
      "Number of components split HNSCC: 155\n",
      "Number of components All data: 3776\n"
     ]
    }
   ],
   "source": [
    "datasets = LoadCancer('/home/MarkF/DivideConquer/Results/GPL570',\n",
    "    '/home/MarkF/DivideConquer/Results/GPL570/All_Cancer/ICARUN/ica_independent_components_consensus.tsv')"
   ]
  },
  {
   "cell_type": "code",
   "execution_count": 3,
   "id": "cdeef7b5",
   "metadata": {
    "scrolled": false
   },
   "outputs": [
    {
     "name": "stdout",
     "output_type": "stream",
     "text": [
      "Number of components split Lung cancer: 193\n",
      "Number of components split Gastric cancer: 195\n",
      "Number of components split Breast cancer: 339\n",
      "Number of components split Sarcoma: 325\n",
      "Number of components split Colorectal cancer: 190\n",
      "Number of components split Prostate cancer: 106\n",
      "Number of components split Renal cancer: 138\n",
      "Number of components split HCC: 190\n",
      "Number of components split Ovarian cancer: 158\n",
      "Number of components split Lymphoma: 167\n",
      "Number of components split Multiple myeloma: 89\n",
      "Number of components split Normal: 605\n",
      "Number of components split Leukemia: 102\n",
      "Number of components split Adrenal cancer: 113\n",
      "Number of components split Myelodysplastic syndrome: 84\n",
      "Number of components split Brain cancer: 156\n",
      "Number of components split Melanoma: 194\n",
      "Number of components split HNSCC: 155\n",
      "Number of components All data: 3776\n"
     ]
    }
   ],
   "source": [
    "# Load the cancer data\n",
    "datasets = LoadCancer('/home/MarkF/DivideConquer/Results/GPL570',\n",
    "    '/home/MarkF/DivideConquer/Results/GPL570/All_Cancer/ICARUN/ica_independent_components_consensus.tsv')"
   ]
  },
  {
   "cell_type": "markdown",
   "id": "254372f4",
   "metadata": {},
   "source": [
    "First check finding a single component in a random chosen set that is not in big and get the biological meaning. For this experiment the Lymohoma set was chosen to investigate further"
   ]
  },
  {
   "cell_type": "markdown",
   "id": "e12ac728",
   "metadata": {},
   "source": [
    "# Find a component in Lymphoma that is not in big"
   ]
  },
  {
   "cell_type": "markdown",
   "id": "ffadc41f",
   "metadata": {},
   "source": [
    "### Make the dataset"
   ]
  },
  {
   "cell_type": "code",
   "execution_count": 4,
   "id": "9b4e9890",
   "metadata": {},
   "outputs": [],
   "source": [
    "# Get the lymphoma columns\n",
    "keep_cols = list(datasets.get_individual_small()['Lymphoma'].columns)\n",
    "# Get the big columns\n",
    "keep_cols.extend(datasets.get_sample_data().columns)\n",
    "lymhoma_sample_df = datasets.get_all().loc[:,keep_cols]"
   ]
  },
  {
   "cell_type": "markdown",
   "id": "75205b70",
   "metadata": {},
   "source": [
    "### Calculate the corrleation"
   ]
  },
  {
   "cell_type": "code",
   "execution_count": 5,
   "id": "cbd189f3",
   "metadata": {
    "scrolled": true
   },
   "outputs": [
    {
     "data": {
      "text/plain": [
       "consensus independent component 105_Lymphoma    0.074116\n",
       "consensus independent component 123_Lymphoma    0.119780\n",
       "consensus independent component 108_Lymphoma    0.121326\n",
       "consensus independent component 161_Lymphoma    0.121821\n",
       "consensus independent component 85_Lymphoma     0.127483\n",
       "                                                  ...   \n",
       "consensus independent component 42_Lymphoma     0.614894\n",
       "consensus independent component 131_Lymphoma    0.630441\n",
       "consensus independent component 9_Lymphoma      0.630936\n",
       "consensus independent component 30_Lymphoma     0.655972\n",
       "consensus independent component 75_Lymphoma     0.657022\n",
       "Length: 167, dtype: float64"
      ]
     },
     "execution_count": 5,
     "metadata": {},
     "output_type": "execute_result"
    }
   ],
   "source": [
    "correlation = Correlation(datasets.get_individual_small()['Lymphoma'], \n",
    "                         datasets.get_sample_data())\n",
    "correlation.get_half_correlation().max(axis=0).sort_values(ascending=True)"
   ]
  },
  {
   "cell_type": "code",
   "execution_count": 6,
   "id": "bea125cb",
   "metadata": {},
   "outputs": [
    {
     "name": "stderr",
     "output_type": "stream",
     "text": [
      "100%|██████████| 3776/3776 [06:00<00:00, 10.48it/s]\n"
     ]
    },
    {
     "data": {
      "text/plain": [
       "0.10323724489640708"
      ]
     },
     "execution_count": 6,
     "metadata": {},
     "output_type": "execute_result"
    }
   ],
   "source": [
    "# Check dcor for this component\n",
    "dcor_calculated = []\n",
    "for column in tqdm(datasets.get_sample_data().columns):\n",
    "    dcor_calculated.append(dcor.distance_correlation(\n",
    "        lymhoma_sample_df[column], lymhoma_sample_df['consensus independent component 123_Lymphoma']))\n",
    "max(dcor_calculated)"
   ]
  },
  {
   "cell_type": "markdown",
   "id": "eb5c753f",
   "metadata": {},
   "source": [
    "Consensus independent component 123_Lymphoma has really low correlation with the sample dataset implecating that it doesn't exist. Checked with dcor and Pearson. Both had a maximun score of about 0.1"
   ]
  },
  {
   "cell_type": "markdown",
   "id": "3dfaeee3",
   "metadata": {},
   "source": [
    "# Furhter investigation lymphoma 123"
   ]
  },
  {
   "cell_type": "markdown",
   "id": "05d6c529",
   "metadata": {},
   "source": [
    "### Does it corelate with a small set?"
   ]
  },
  {
   "cell_type": "code",
   "execution_count": 7,
   "id": "dfb2251e",
   "metadata": {},
   "outputs": [
    {
     "data": {
      "text/plain": [
       "0.11571773136327146"
      ]
     },
     "execution_count": 7,
     "metadata": {},
     "output_type": "execute_result"
    }
   ],
   "source": [
    "# Get the lymphoma columns\n",
    "keep_cols = list(datasets.get_individual_small()['Lymphoma'].columns)\n",
    "# Get the big columns\n",
    "keep_cols.extend(datasets.get_sample_data().columns)\n",
    "# Get a dataframe with all small sets except lymphoma\n",
    "keep_cols = [x for x in datasets.get_all() if x not in keep_cols]\n",
    "non_lymphoma_sample = datasets.get_all().loc[:,keep_cols]\n",
    "correlation = Correlation(datasets.get_individual_small()['Lymphoma'], \n",
    "                          non_lymphoma_sample)\n",
    "correlation.get_half_correlation().max(axis=0)['consensus independent component 123_Lymphoma']"
   ]
  },
  {
   "cell_type": "code",
   "execution_count": 8,
   "id": "7425f756",
   "metadata": {},
   "outputs": [
    {
     "name": "stderr",
     "output_type": "stream",
     "text": [
      "100%|██████████| 3332/3332 [05:17<00:00, 10.48it/s]\n"
     ]
    },
    {
     "data": {
      "text/plain": [
       "0.1096370683561887"
      ]
     },
     "execution_count": 8,
     "metadata": {},
     "output_type": "execute_result"
    }
   ],
   "source": [
    "# Check dcor for this component\n",
    "dcor_calculated = []\n",
    "for column in tqdm(non_lymphoma_sample.columns):\n",
    "    dcor_calculated.append(dcor.distance_correlation(\n",
    "        non_lymphoma_sample[column], lymhoma_sample_df['consensus independent component 123_Lymphoma']))\n",
    "max(dcor_calculated)"
   ]
  },
  {
   "cell_type": "markdown",
   "id": "56de6779",
   "metadata": {},
   "source": [
    "Consensus independent component 123_Lymphoma has really low correlation with the other small datasets implecating that it doesn't exist. Checked with dcor and Pearson. Both had a maximun score of about 0.1"
   ]
  },
  {
   "cell_type": "markdown",
   "id": "7227c00c",
   "metadata": {},
   "source": [
    "### GSEA \n",
    "Check if this component is significancly enriched (scores higher than 4) for three genesets"
   ]
  },
  {
   "cell_type": "code",
   "execution_count": 9,
   "id": "f4afebd7",
   "metadata": {},
   "outputs": [],
   "source": [
    "# Load all GSEA results\n",
    "paths = [('GOBP', 'enrichment_matrix_Gene Ontology - Biolocal Processes.tsv'),\n",
    "         ('HALLMARK', 'enrichment_matrix_Hallmark.tsv'),\n",
    "         ('REACTOME','enrichment_matrix_Reactome.tsv')]\n",
    "GSEA_ALL = {}\n",
    "for path in paths:\n",
    "    df = pd.read_csv(f'/home/MarkF/DivideConquer/Results/GPL570/Lymphoma/GSEA/{path[1]}',\n",
    "                     sep='\\t', index_col=0)\n",
    "    df.index = [x.split(' -- ')[0].replace(f'{path[0]}_','') for x in df.index]\n",
    "    GSEA_ALL[path[0]] = df['consensus independent component 123'].abs()\n"
   ]
  },
  {
   "cell_type": "code",
   "execution_count": 10,
   "id": "22303c5d",
   "metadata": {},
   "outputs": [
    {
     "data": {
      "text/plain": [
       "HIPPO_SIGNALING      4.259426\n",
       "B_CELL_ACTIVATION    4.123082\n",
       "Name: consensus independent component 123, dtype: float64"
      ]
     },
     "execution_count": 10,
     "metadata": {},
     "output_type": "execute_result"
    }
   ],
   "source": [
    "GSEA_ALL['GOBP'][GSEA_ALL['GOBP'] > 4].sort_values(ascending=False)"
   ]
  },
  {
   "cell_type": "code",
   "execution_count": 11,
   "id": "ffb6a506",
   "metadata": {
    "scrolled": true
   },
   "outputs": [
    {
     "data": {
      "text/plain": [
       "Series([], Name: consensus independent component 123, dtype: float64)"
      ]
     },
     "execution_count": 11,
     "metadata": {},
     "output_type": "execute_result"
    }
   ],
   "source": [
    "GSEA_ALL['HALLMARK'][GSEA_ALL['HALLMARK'] > 4].sort_values(ascending=False)"
   ]
  },
  {
   "cell_type": "code",
   "execution_count": 12,
   "id": "700707af",
   "metadata": {},
   "outputs": [
    {
     "data": {
      "text/plain": [
       "Series([], Name: consensus independent component 123, dtype: float64)"
      ]
     },
     "execution_count": 12,
     "metadata": {},
     "output_type": "execute_result"
    }
   ],
   "source": [
    "GSEA_ALL['REACTOME'][GSEA_ALL['REACTOME'] > 4].sort_values(ascending=False)"
   ]
  },
  {
   "cell_type": "markdown",
   "id": "fed79130",
   "metadata": {},
   "source": [
    "It is enriched in the GOBP dataset for both HIPPO_SIGNALING and B_CELL_ACTIVATION"
   ]
  },
  {
   "cell_type": "markdown",
   "id": "e7f04785",
   "metadata": {},
   "source": [
    "### Guilt by association\n",
    "Do a guilt by assiciation analysis to see if this results in any interesting enrichments"
   ]
  },
  {
   "cell_type": "code",
   "execution_count": 13,
   "id": "c2d86788",
   "metadata": {},
   "outputs": [
    {
     "data": {
      "image/png": "[encoded data removed]",
      "text/plain": [
       "<Figure size 576x576 with 1 Axes>"
      ]
     },
     "metadata": {
      "needs_background": "light"
     },
     "output_type": "display_data"
    }
   ],
   "source": [
    "# Plot the gene weights \n",
    "plt.figure(figsize=(8,8))\n",
    "sns.histplot(datasets.get_all()['consensus independent component 123_Lymphoma'], kde=True)\n",
    "plt.show()"
   ]
  },
  {
   "cell_type": "code",
   "execution_count": 14,
   "id": "74112c8b",
   "metadata": {},
   "outputs": [
    {
     "data": {
      "text/html": [
       "<div>\n",
       "<style scoped>\n",
       "    .dataframe tbody tr th:only-of-type {\n",
       "        vertical-align: middle;\n",
       "    }\n",
       "\n",
       "    .dataframe tbody tr th {\n",
       "        vertical-align: top;\n",
       "    }\n",
       "\n",
       "    .dataframe thead th {\n",
       "        text-align: right;\n",
       "    }\n",
       "</style>\n",
       "<table border=\"1\" class=\"dataframe\">\n",
       "  <thead>\n",
       "    <tr style=\"text-align: right;\">\n",
       "      <th></th>\n",
       "      <th>consensus independent component 123_Lymphoma</th>\n",
       "      <th>SYMBOL</th>\n",
       "    </tr>\n",
       "  </thead>\n",
       "  <tbody>\n",
       "    <tr>\n",
       "      <th>6664</th>\n",
       "      <td>15.526040</td>\n",
       "      <td>SOX11</td>\n",
       "    </tr>\n",
       "    <tr>\n",
       "      <th>595</th>\n",
       "      <td>10.778926</td>\n",
       "      <td>CCND1</td>\n",
       "    </tr>\n",
       "    <tr>\n",
       "      <th>153478</th>\n",
       "      <td>10.655302</td>\n",
       "      <td>PLEKHG4B</td>\n",
       "    </tr>\n",
       "    <tr>\n",
       "      <th>2899</th>\n",
       "      <td>9.909925</td>\n",
       "      <td>GRIK3</td>\n",
       "    </tr>\n",
       "    <tr>\n",
       "      <th>1788</th>\n",
       "      <td>9.652309</td>\n",
       "      <td>DNMT3A</td>\n",
       "    </tr>\n",
       "    <tr>\n",
       "      <th>9315</th>\n",
       "      <td>8.326306</td>\n",
       "      <td>NREP</td>\n",
       "    </tr>\n",
       "    <tr>\n",
       "      <th>150568</th>\n",
       "      <td>8.244211</td>\n",
       "      <td>LINC01102</td>\n",
       "    </tr>\n",
       "    <tr>\n",
       "      <th>7473</th>\n",
       "      <td>8.052010</td>\n",
       "      <td>WNT3</td>\n",
       "    </tr>\n",
       "    <tr>\n",
       "      <th>23677</th>\n",
       "      <td>7.992590</td>\n",
       "      <td>SH3BP4</td>\n",
       "    </tr>\n",
       "    <tr>\n",
       "      <th>221756</th>\n",
       "      <td>7.712544</td>\n",
       "      <td>SERPINB9P1</td>\n",
       "    </tr>\n",
       "    <tr>\n",
       "      <th>27065</th>\n",
       "      <td>7.711365</td>\n",
       "      <td>NSG1</td>\n",
       "    </tr>\n",
       "    <tr>\n",
       "      <th>8642</th>\n",
       "      <td>7.669238</td>\n",
       "      <td>DCHS1</td>\n",
       "    </tr>\n",
       "    <tr>\n",
       "      <th>84206</th>\n",
       "      <td>7.205857</td>\n",
       "      <td>MEX3B</td>\n",
       "    </tr>\n",
       "    <tr>\n",
       "      <th>11174</th>\n",
       "      <td>7.173856</td>\n",
       "      <td>ADAMTS6</td>\n",
       "    </tr>\n",
       "    <tr>\n",
       "      <th>8857</th>\n",
       "      <td>7.166641</td>\n",
       "      <td>FCGBP</td>\n",
       "    </tr>\n",
       "    <tr>\n",
       "      <th>5364</th>\n",
       "      <td>7.149223</td>\n",
       "      <td>PLXNB1</td>\n",
       "    </tr>\n",
       "    <tr>\n",
       "      <th>57633</th>\n",
       "      <td>6.919055</td>\n",
       "      <td>LRRN1</td>\n",
       "    </tr>\n",
       "    <tr>\n",
       "      <th>57577</th>\n",
       "      <td>6.708485</td>\n",
       "      <td>CCDC191</td>\n",
       "    </tr>\n",
       "    <tr>\n",
       "      <th>7694</th>\n",
       "      <td>6.593173</td>\n",
       "      <td>ZNF135</td>\n",
       "    </tr>\n",
       "    <tr>\n",
       "      <th>254295</th>\n",
       "      <td>6.488942</td>\n",
       "      <td>PHYHD1</td>\n",
       "    </tr>\n",
       "  </tbody>\n",
       "</table>\n",
       "</div>"
      ],
      "text/plain": [
       "        consensus independent component 123_Lymphoma      SYMBOL\n",
       "6664                                       15.526040       SOX11\n",
       "595                                        10.778926       CCND1\n",
       "153478                                     10.655302    PLEKHG4B\n",
       "2899                                        9.909925       GRIK3\n",
       "1788                                        9.652309      DNMT3A\n",
       "9315                                        8.326306        NREP\n",
       "150568                                      8.244211   LINC01102\n",
       "7473                                        8.052010        WNT3\n",
       "23677                                       7.992590      SH3BP4\n",
       "221756                                      7.712544  SERPINB9P1\n",
       "27065                                       7.711365        NSG1\n",
       "8642                                        7.669238       DCHS1\n",
       "84206                                       7.205857       MEX3B\n",
       "11174                                       7.173856     ADAMTS6\n",
       "8857                                        7.166641       FCGBP\n",
       "5364                                        7.149223      PLXNB1\n",
       "57633                                       6.919055       LRRN1\n",
       "57577                                       6.708485     CCDC191\n",
       "7694                                        6.593173      ZNF135\n",
       "254295                                      6.488942      PHYHD1"
      ]
     },
     "execution_count": 14,
     "metadata": {},
     "output_type": "execute_result"
    }
   ],
   "source": [
    "# Show the top 20 weighted genes in this component\n",
    "names = pd.read_csv('/home/MarkF/DivideConquer/Tacna_confic/Genomic_Mapping_hgu133plus2_using_jetscore_30032018.txt',\n",
    "           sep=None, engine='python')\n",
    "names = names.groupby('SYMBOL').first().reset_index().set_index('ENTREZID')['SYMBOL']\n",
    "plot_df = pd.DataFrame(\n",
    "    datasets.get_all()['consensus independent component 123_Lymphoma'].sort_values(ascending=False))\n",
    "plot_df = plot_df.join(names)\n",
    "plot_df = plot_df.head(100)\n",
    "plot_df.head(20)"
   ]
  },
  {
   "cell_type": "code",
   "execution_count": 15,
   "id": "6882ebe7",
   "metadata": {},
   "outputs": [
    {
     "name": "stdout",
     "output_type": "stream",
     "text": [
      "SOX11 CCND1 PLEKHG4B GRIK3 DNMT3A NREP LINC01102 WNT3 SH3BP4 SERPINB9P1 NSG1 DCHS1 MEX3B ADAMTS6 FCGBP PLXNB1 LRRN1 CCDC191 ZNF135 PHYHD1 PPP1R17 HDGFRP3 CDK2AP1 LINC00865 TUNAR NSUN7 PLEKHA1 DBN1 KIAA2022 IGF1R GAB2 FBLN2 PON2 MARCKSL1 TBC1D9 IL23A ABCA6 ZBED3 PELI2 MDK SPIN1 PRICKLE1 C11orf95 FHL1 GTF2IRD1 KCNQ1 FAM69B MEGF6 CHL1 STMN1 MEX3D PYGM ROR1 ALOX5 DDAH2 APP ZNF853 CRIM1 SDK2 HOMER3 ATL1 ATP11A FADS3 RBM47 IQGAP2 CLMN ARHGAP6 MYO15B KHDRBS2 PWWP2B RNGTT LGALS3BP SPAG9 MSR1 LDOC1L TIMP2 TMEM237 BAIAP3 CREB3L4 LOC101927815 LOC100506098 ZSCAN2 PADI4 ABCA9 SETMAR LOC729970 CNN3 TMEM64 FNBP1L EPOR DZANK1 KDM5B TUBA1A LHFPL2 BEX4 LCK MS4A14 RNASE6 ZNF618 ZNF629\n"
     ]
    }
   ],
   "source": [
    "# Print them to put in the Guilt by association website (83.162.250.102/GuiltByAssociation/)\n",
    "print(' '.join(list(plot_df['SYMBOL'])))"
   ]
  },
  {
   "cell_type": "markdown",
   "id": "50dcb678",
   "metadata": {},
   "source": [
    "### CNA\n",
    "Check if the component is a copy number alteration"
   ]
  },
  {
   "cell_type": "code",
   "execution_count": 16,
   "id": "15b29fb8",
   "metadata": {},
   "outputs": [
    {
     "data": {
      "text/html": [
       "<div>\n",
       "<style scoped>\n",
       "    .dataframe tbody tr th:only-of-type {\n",
       "        vertical-align: middle;\n",
       "    }\n",
       "\n",
       "    .dataframe tbody tr th {\n",
       "        vertical-align: top;\n",
       "    }\n",
       "\n",
       "    .dataframe thead th {\n",
       "        text-align: right;\n",
       "    }\n",
       "</style>\n",
       "<table border=\"1\" class=\"dataframe\">\n",
       "  <thead>\n",
       "    <tr style=\"text-align: right;\">\n",
       "      <th></th>\n",
       "      <th>chrom</th>\n",
       "      <th>chromStart</th>\n",
       "      <th>chromEnd</th>\n",
       "      <th>name</th>\n",
       "      <th>extreme_value_region_status</th>\n",
       "      <th>mappings_in_region</th>\n",
       "      <th>hyperparameter</th>\n",
       "    </tr>\n",
       "  </thead>\n",
       "  <tbody>\n",
       "  </tbody>\n",
       "</table>\n",
       "</div>"
      ],
      "text/plain": [
       "Empty DataFrame\n",
       "Columns: [chrom, chromStart, chromEnd, name, extreme_value_region_status, mappings_in_region, hyperparameter]\n",
       "Index: []"
      ]
     },
     "execution_count": 16,
     "metadata": {},
     "output_type": "execute_result"
    }
   ],
   "source": [
    "cna_df = pd.read_csv(f'/home/MarkF/DivideConquer/Results/GPL570/Lymphoma/CNA_TC'\n",
    "                     '/_extreme_valued_regions_all_chromosomes.txt', sep='\\t')\n",
    "cna_df = cna_df[cna_df['extreme_value_region_status'] != 0]\n",
    "cna_df = cna_df[cna_df['mappings_in_region'] >= 10]\n",
    "cna_df[cna_df['name'] == 'consensus independent component 123']"
   ]
  },
  {
   "cell_type": "markdown",
   "id": "3fc892e1",
   "metadata": {},
   "source": [
    "No copy number beause no items apear in this dataframe"
   ]
  },
  {
   "cell_type": "markdown",
   "id": "b559a329",
   "metadata": {},
   "source": [
    "## Mantle cell lymohoma\n",
    "After analysing the top genes it gave a strong indication that this component explains a pathway related to mantle cell lymphoma.\n",
    "\n",
    "The top weighed genes in this ES were shown in the table The top weighted gene expression was found to be SOX11. For this this gene research found that \"SOX11 expression is highly specific for mantle cell lymphoma and identifies the cyclin D1-negative subtype\". Moreover, CCND1, GRIK3, DNMT3A, and WNT3 all have literature supporting the fact that they link to mantle cell lymphoma. "
   ]
  },
  {
   "cell_type": "markdown",
   "id": "e3648629",
   "metadata": {},
   "source": [
    "###  Mixing matrix\n",
    "Showing which patient probably have lymphoma"
   ]
  },
  {
   "cell_type": "code",
   "execution_count": 17,
   "id": "bfefab38",
   "metadata": {},
   "outputs": [],
   "source": [
    "mixing_matrix = pd.read_csv(\n",
    "    '/home/MarkF/DivideConquer/Results/GPL570/Lymphoma/ICARUN/ica_mixing_matrix_consensus.tsv',\n",
    "    sep='\\t', index_col=0)"
   ]
  },
  {
   "cell_type": "code",
   "execution_count": 18,
   "id": "f726dbb2",
   "metadata": {
    "scrolled": false
   },
   "outputs": [
    {
     "data": {
      "image/png": "[encoded data removed]",
      "text/plain": [
       "<Figure size 576x576 with 1 Axes>"
      ]
     },
     "metadata": {
      "needs_background": "light"
     },
     "output_type": "display_data"
    }
   ],
   "source": [
    "plt.figure(figsize=(8,8))\n",
    "sns.histplot(mixing_matrix['consensus independent component 123'], kde=True)\n",
    "plt.show()"
   ]
  },
  {
   "cell_type": "code",
   "execution_count": 19,
   "id": "c569182e",
   "metadata": {},
   "outputs": [
    {
     "data": {
      "text/plain": [
       "19"
      ]
     },
     "execution_count": 19,
     "metadata": {},
     "output_type": "execute_result"
    }
   ],
   "source": [
    "(mixing_matrix['consensus independent component 123'] > 0.15).sum()"
   ]
  },
  {
   "cell_type": "markdown",
   "id": "866e209d",
   "metadata": {},
   "source": [
    "The patients with the extreme weights of higher than 0.15 probably have mantle cell lymphoma in this dataset. This are in total 19 samples"
   ]
  },
  {
   "cell_type": "markdown",
   "id": "2b7fa31d",
   "metadata": {},
   "source": [
    "## Component in non consensus\n",
    "\n",
    "Look into the individual 25 runs to investigate if it got found one time and got dropped in the consensus or if it didn't appear at all"
   ]
  },
  {
   "cell_type": "code",
   "execution_count": 20,
   "id": "20e9316c",
   "metadata": {},
   "outputs": [
    {
     "name": "stderr",
     "output_type": "stream",
     "text": [
      "100%|██████████| 25/25 [10:09<00:00, 24.37s/it]\n"
     ]
    },
    {
     "data": {
      "text/plain": [
       "{1: 0.12615491079081173,\n",
       " 2: 0.09511131783762325,\n",
       " 3: 0.16163755575820873,\n",
       " 4: 0.07266880130133704,\n",
       " 5: 0.11692379693195615,\n",
       " 6: 0.1339181720430896,\n",
       " 7: 0.10905063209173138,\n",
       " 8: 0.10354108425649626,\n",
       " 9: 0.1106837320718126,\n",
       " 10: 0.10554538553270909,\n",
       " 11: 0.11094138081157555,\n",
       " 12: 0.33752357910084796,\n",
       " 13: 0.11129523899835915,\n",
       " 14: 0.13493698752571895,\n",
       " 15: 0.11380800391784814,\n",
       " 16: 0.11509933472398173,\n",
       " 17: 0.09846158971498868,\n",
       " 18: 0.1115695375201397,\n",
       " 19: 0.11838486836912351,\n",
       " 20: 0.11492356875484666,\n",
       " 21: 0.10922907006589641,\n",
       " 22: 0.09474542234145024,\n",
       " 23: 0.09446016570578526,\n",
       " 24: 0.1016347211696918,\n",
       " 25: 0.11265623078315506}"
      ]
     },
     "execution_count": 20,
     "metadata": {},
     "output_type": "execute_result"
    }
   ],
   "source": [
    "save_cor = {}\n",
    "# Load the column\n",
    "important_cols = pd.DataFrame(datasets.get_all()['consensus independent component 123_Lymphoma'])\n",
    "\n",
    "# Loop over the 25 runs\n",
    "for i in tqdm(range(1,26)):\n",
    "    df = pd.read_csv(f'/home/MarkF/DivideConquer/Results/GPL570/All_Cancer/ICARUN2/'\n",
    "                     f'ica_run_{i}_independent_components.tsv', sep='\\t', index_col=0)\n",
    "    correlation = Correlation(important_cols, df)    \n",
    "    save_cor[i] = correlation.get_half_correlation().max()[0]\n",
    "save_cor"
   ]
  },
  {
   "cell_type": "markdown",
   "id": "5206f140",
   "metadata": {},
   "source": [
    "The biggest correlation is with a indivudal run on the 12th ica run. Load this in and investigate it a bit further. First look at what component causes the correlation"
   ]
  },
  {
   "cell_type": "code",
   "execution_count": 21,
   "id": "fe427d1e",
   "metadata": {},
   "outputs": [],
   "source": [
    "df = pd.read_csv(f'/home/MarkF/DivideConquer/Results/GPL570/All_Cancer/ICARUN2/'\n",
    "                 f'ica_run_12_independent_components.tsv', sep='\\t', index_col=0)\n",
    "correlation = Correlation(important_cols, df)    "
   ]
  },
  {
   "cell_type": "code",
   "execution_count": 22,
   "id": "7090649f",
   "metadata": {},
   "outputs": [
    {
     "data": {
      "text/plain": [
       "component 3061    0.337524\n",
       "component 3259    0.117063\n",
       "component 1868    0.094932\n",
       "component 3389    0.084636\n",
       "component 252     0.075185\n",
       "                    ...   \n",
       "component 1775    0.000011\n",
       "component 1752    0.000010\n",
       "component 232     0.000009\n",
       "component 207     0.000006\n",
       "component 735     0.000006\n",
       "Length: 4868, dtype: float64"
      ]
     },
     "execution_count": 22,
     "metadata": {},
     "output_type": "execute_result"
    }
   ],
   "source": [
    "correlation.get_half_correlation().max(axis=1).sort_values(ascending=False)"
   ]
  },
  {
   "cell_type": "code",
   "execution_count": 23,
   "id": "02cefdc4",
   "metadata": {},
   "outputs": [
    {
     "data": {
      "text/plain": [
       "0.2621408815578629"
      ]
     },
     "execution_count": 23,
     "metadata": {},
     "output_type": "execute_result"
    }
   ],
   "source": [
    "dcor.distance_correlation(important_cols, df['component 3061'])"
   ]
  },
  {
   "cell_type": "markdown",
   "id": "b0f7439c",
   "metadata": {},
   "source": [
    "The component is correlates with is 3061. But really small correlation. Pearson score of 0.33 and dcor of 0.26"
   ]
  },
  {
   "cell_type": "markdown",
   "id": "ee696f46",
   "metadata": {},
   "source": [
    "### Look at if they explain the same pathway"
   ]
  },
  {
   "cell_type": "code",
   "execution_count": 24,
   "id": "90e59e4f",
   "metadata": {
    "scrolled": true
   },
   "outputs": [
    {
     "data": {
      "image/png": "[encoded data removed]",
      "text/plain": [
       "<Figure size 432x288 with 1 Axes>"
      ]
     },
     "metadata": {
      "needs_background": "light"
     },
     "output_type": "display_data"
    }
   ],
   "source": [
    "# Plot the two components against each other\n",
    "df = df.join(important_cols)\n",
    "sns.scatterplot(data=df, x='consensus independent component 123_Lymphoma', y='component 3061')\n",
    "plt.show()"
   ]
  },
  {
   "cell_type": "code",
   "execution_count": 25,
   "id": "292acc87",
   "metadata": {},
   "outputs": [
    {
     "data": {
      "image/png": "[encoded data removed]",
      "text/plain": [
       "<Figure size 576x576 with 1 Axes>"
      ]
     },
     "metadata": {
      "needs_background": "light"
     },
     "output_type": "display_data"
    }
   ],
   "source": [
    "# See the top weights of this component\n",
    "plt.figure(figsize=(8,8))\n",
    "sns.histplot(df['component 3061'], kde=True)\n",
    "plt.show()"
   ]
  },
  {
   "cell_type": "code",
   "execution_count": 26,
   "id": "9faa17b7",
   "metadata": {},
   "outputs": [
    {
     "data": {
      "text/plain": [
       "['MEX3D',\n",
       " 'STMN1',\n",
       " 'DNMT3A',\n",
       " 'ZBED3',\n",
       " 'SPIN1',\n",
       " 'NREP',\n",
       " 'DBN1',\n",
       " 'CDK2AP1',\n",
       " 'PLXNB1',\n",
       " 'MDK',\n",
       " 'SOX11',\n",
       " 'MEX3B',\n",
       " 'C11orf95',\n",
       " 'DCHS1',\n",
       " 'MARCKSL1']"
      ]
     },
     "execution_count": 26,
     "metadata": {},
     "output_type": "execute_result"
    }
   ],
   "source": [
    "# Get the highest genes that appear in both components\n",
    "genes_df = df[['consensus independent component 123_Lymphoma', 'component 3061']]\n",
    "genes_df = genes_df.join(names)\n",
    "genes_small = genes_df[genes_df['component 3061'] < -5]['SYMBOL'].values\n",
    "genes_lymp = genes_df[genes_df['consensus independent component 123_Lymphoma'] > 5]['SYMBOL'].values\n",
    "list(set(genes_lymp) & set(genes_small))"
   ]
  },
  {
   "cell_type": "code",
   "execution_count": 27,
   "id": "c6c3fdc6",
   "metadata": {},
   "outputs": [
    {
     "name": "stdout",
     "output_type": "stream",
     "text": [
      "DBN1 MEX3A CASC15 ZSCAN2 SOX4 MARCKSL1 C11orf95 TMSB15B DNMT3A SOX11 MDK TEAD2 ZNF627 SBK1 VASH2 ZBTB8A AP4M1 KDM5B MEX3B ZNF3 PLCG1 RPAIN FAM89B CCDC112 TMSB15A NINL NCK2 SMARCC1 DCHS1 NREP GPC2 STMN1 TTYH3 ZNF821 TMSB10 EFNA4 RBM15B YPEL1 KLHL24 IP6K2 TIA1 PAFAH1B3 CACNB3 KIAA0895L ZNF124 ZBED3 HN1 NARF TMTC4 MLLT11 ZNF195 TRIM24 PCAT6 PHF14 TGIF2 CSRNP2 ARL5B HNRNPA0 SEMA4C LMBR1L CDK2AP1 PANX1 MEX3D CBX1 FKBP7 KDM1A OCIAD2 ATP11C CCNJ ZNF146 HOMER3 ZBED4 HILPDA TUBA1A ZNF184 CBX2 ZSCAN16 SMARCE1 TTC3 NIPSNAP1 TMEM132A ZNF362 ADNP CYTH2 COMMD3 PCGF3 TP53BP2 KIAA1958 APEX1 SPIN1 ABL1 TMEM206 PLXNB1 UBE2Q2 DDAH2 FNBP1L YWHAQ TOR1AIP1 MSANTD3 GSTA4\n"
     ]
    }
   ],
   "source": [
    "# Get the highest genes of the new component\n",
    "genes_df = df[['consensus independent component 123_Lymphoma', 'component 3061']].abs()\n",
    "genes_df = genes_df.join(names)\n",
    "print(' '.join(list(genes_df.sort_values(by='component 3061',ascending=False)['SYMBOL'].head(100))))"
   ]
  },
  {
   "cell_type": "markdown",
   "id": "bd850fa6",
   "metadata": {},
   "source": [
    "This component with some correlation also has a link to mantle cell lymphoma. No clear evidence can be given which of the two is better. However, the component in the lymphoma run is found way easer as it appears in 50% of the runs. The big component is only found one time."
   ]
  },
  {
   "cell_type": "markdown",
   "id": "c6635893",
   "metadata": {},
   "source": [
    "# Summary\n",
    "Now look at all the new components found in the smaller run and see how many are enriched \n",
    "\n",
    "### In small but not in big"
   ]
  },
  {
   "cell_type": "code",
   "execution_count": 28,
   "id": "f75f234f",
   "metadata": {
    "scrolled": true
   },
   "outputs": [],
   "source": [
    "# Calculate correlation\n",
    "correlation = Correlation(datasets.get_merged_small(), \n",
    "                         datasets.get_sample_data())\n",
    "# Get all small components that are not in the big datasset with a pearson cutoff of 0.6\n",
    "non_reproduced = correlation.get_half_correlation().max(axis=0)\n",
    "non_reproduced = pd.DataFrame(non_reproduced[non_reproduced < 0.6]).reset_index()\n",
    "# Get the component and the group in seperate columns\n",
    "non_reproduced[['Component', 'Group']] = non_reproduced['index'].str.split('_', expand=True)\n",
    "non_reproduced = non_reproduced.drop(['index', 0], axis=1)"
   ]
  },
  {
   "cell_type": "code",
   "execution_count": 29,
   "id": "e59ad544",
   "metadata": {},
   "outputs": [],
   "source": [
    "#Get the enrichements and loop over every group to see for every component if it is enriched\n",
    "paths = [('GOBP', 'enrichment_matrix_Gene Ontology - Biolocal Processes.tsv'),\n",
    "         ('HALLMARK', 'enrichment_matrix_Hallmark.tsv'),\n",
    "         ('REACTOME','enrichment_matrix_Reactome.tsv')]\n",
    "count = {}\n",
    "# Loop over all small sets\n",
    "for cancer, df in non_reproduced.groupby('Group'):\n",
    "    # Get the correct name for later\n",
    "    cancer = cancer.replace(' ', '_')\n",
    "    # Amount of component that don't correlate with big\n",
    "    count[cancer] = {'New findings': len(df)}\n",
    "    active_components = []\n",
    "    cna_components = []\n",
    "    # Loop over the GSEA\n",
    "    for path in paths:\n",
    "        # Load it in and remove the link\n",
    "        gsea_df = pd.read_csv(f'/home/MarkF/DivideConquer/Results/GPL570/{cancer}/GSEA/{path[1]}',\n",
    "                         sep='\\t', index_col=0)\n",
    "        gsea_df.index = [x.split(' -- ')[0].replace(f'{path[0]}_','') for x in gsea_df.index]\n",
    "        # Only get the component that are in the current dataset\n",
    "        gsea_df = gsea_df[df['Component']].abs()\n",
    "        # Get the significant genesets (Score higher than 4) and put these esimated sources in a list\n",
    "        gsea_df = gsea_df > 4\n",
    "        gsea_df = gsea_df.sum()\n",
    "        gsea_df = gsea_df[gsea_df > 0]\n",
    "        active_components.extend(list(gsea_df.index))\n",
    "        \n",
    "    # Check if there are any CNA in the components\n",
    "    cna_df = pd.read_csv(f'/home/MarkF/DivideConquer/Results/GPL570/{cancer}/CNA_TC'\n",
    "                         '/_extreme_valued_regions_all_chromosomes.txt', sep='\\t')\n",
    "    cna_df = cna_df[cna_df['extreme_value_region_status'] != 0]\n",
    "    cna_df = cna_df[cna_df['mappings_in_region'] >= 10]\n",
    "    # Only leave the ones that are in the non-appearning group\n",
    "    cna_df = cna_df[cna_df['name'].isin(df['Component'])]\n",
    "    cna_components.extend(list(cna_df['name']))\n",
    "    # Only leave the unique values and count them\n",
    "    active_components = set(active_components)\n",
    "    cna_components = set(cna_components)\n",
    "    # The only enriched\n",
    "    count[cancer][f'Enriched'] = len(active_components.difference(cna_components))\n",
    "    # The only CNA\n",
    "    count[cancer][f'CNA'] = len(cna_components.difference(active_components))\n",
    "    # Both enriched and CNA\n",
    "    count[cancer]['CNA and Enriched'] = len(active_components.intersection(cna_components))\n",
    "count = pd.DataFrame(count).T\n",
    "#count['Biological function'] = count['Enriched'] + count['CNA'] + count['CNA and Enriched']\n",
    "count = count[['New findings', 'Enriched', 'CNA', 'CNA and Enriched']]"
   ]
  },
  {
   "cell_type": "code",
   "execution_count": 30,
   "id": "6593c24e",
   "metadata": {},
   "outputs": [
    {
     "data": {
      "text/html": [
       "<div>\n",
       "<style scoped>\n",
       "    .dataframe tbody tr th:only-of-type {\n",
       "        vertical-align: middle;\n",
       "    }\n",
       "\n",
       "    .dataframe tbody tr th {\n",
       "        vertical-align: top;\n",
       "    }\n",
       "\n",
       "    .dataframe thead th {\n",
       "        text-align: right;\n",
       "    }\n",
       "</style>\n",
       "<table border=\"1\" class=\"dataframe\">\n",
       "  <thead>\n",
       "    <tr style=\"text-align: right;\">\n",
       "      <th></th>\n",
       "      <th>New findings</th>\n",
       "      <th>Enriched</th>\n",
       "      <th>CNA</th>\n",
       "      <th>CNA and Enriched</th>\n",
       "    </tr>\n",
       "  </thead>\n",
       "  <tbody>\n",
       "    <tr>\n",
       "      <th>Adrenal_cancer</th>\n",
       "      <td>113</td>\n",
       "      <td>40</td>\n",
       "      <td>21</td>\n",
       "      <td>35</td>\n",
       "    </tr>\n",
       "    <tr>\n",
       "      <th>Brain_cancer</th>\n",
       "      <td>147</td>\n",
       "      <td>53</td>\n",
       "      <td>29</td>\n",
       "      <td>60</td>\n",
       "    </tr>\n",
       "    <tr>\n",
       "      <th>Breast_cancer</th>\n",
       "      <td>129</td>\n",
       "      <td>13</td>\n",
       "      <td>76</td>\n",
       "      <td>32</td>\n",
       "    </tr>\n",
       "    <tr>\n",
       "      <th>Colorectal_cancer</th>\n",
       "      <td>133</td>\n",
       "      <td>32</td>\n",
       "      <td>37</td>\n",
       "      <td>59</td>\n",
       "    </tr>\n",
       "    <tr>\n",
       "      <th>Gastric_cancer</th>\n",
       "      <td>195</td>\n",
       "      <td>68</td>\n",
       "      <td>50</td>\n",
       "      <td>59</td>\n",
       "    </tr>\n",
       "    <tr>\n",
       "      <th>HCC</th>\n",
       "      <td>190</td>\n",
       "      <td>60</td>\n",
       "      <td>39</td>\n",
       "      <td>65</td>\n",
       "    </tr>\n",
       "    <tr>\n",
       "      <th>HNSCC</th>\n",
       "      <td>154</td>\n",
       "      <td>50</td>\n",
       "      <td>33</td>\n",
       "      <td>55</td>\n",
       "    </tr>\n",
       "    <tr>\n",
       "      <th>Leukemia</th>\n",
       "      <td>62</td>\n",
       "      <td>17</td>\n",
       "      <td>8</td>\n",
       "      <td>34</td>\n",
       "    </tr>\n",
       "    <tr>\n",
       "      <th>Lung_cancer</th>\n",
       "      <td>143</td>\n",
       "      <td>39</td>\n",
       "      <td>50</td>\n",
       "      <td>51</td>\n",
       "    </tr>\n",
       "    <tr>\n",
       "      <th>Lymphoma</th>\n",
       "      <td>161</td>\n",
       "      <td>63</td>\n",
       "      <td>34</td>\n",
       "      <td>56</td>\n",
       "    </tr>\n",
       "    <tr>\n",
       "      <th>Melanoma</th>\n",
       "      <td>194</td>\n",
       "      <td>80</td>\n",
       "      <td>39</td>\n",
       "      <td>61</td>\n",
       "    </tr>\n",
       "    <tr>\n",
       "      <th>Multiple_myeloma</th>\n",
       "      <td>80</td>\n",
       "      <td>26</td>\n",
       "      <td>13</td>\n",
       "      <td>38</td>\n",
       "    </tr>\n",
       "    <tr>\n",
       "      <th>Myelodysplastic_syndrome</th>\n",
       "      <td>84</td>\n",
       "      <td>55</td>\n",
       "      <td>3</td>\n",
       "      <td>17</td>\n",
       "    </tr>\n",
       "    <tr>\n",
       "      <th>Normal</th>\n",
       "      <td>356</td>\n",
       "      <td>30</td>\n",
       "      <td>145</td>\n",
       "      <td>29</td>\n",
       "    </tr>\n",
       "    <tr>\n",
       "      <th>Ovarian_cancer</th>\n",
       "      <td>158</td>\n",
       "      <td>19</td>\n",
       "      <td>74</td>\n",
       "      <td>54</td>\n",
       "    </tr>\n",
       "    <tr>\n",
       "      <th>Prostate_cancer</th>\n",
       "      <td>106</td>\n",
       "      <td>50</td>\n",
       "      <td>13</td>\n",
       "      <td>28</td>\n",
       "    </tr>\n",
       "    <tr>\n",
       "      <th>Renal_cancer</th>\n",
       "      <td>138</td>\n",
       "      <td>61</td>\n",
       "      <td>15</td>\n",
       "      <td>37</td>\n",
       "    </tr>\n",
       "    <tr>\n",
       "      <th>Sarcoma</th>\n",
       "      <td>325</td>\n",
       "      <td>76</td>\n",
       "      <td>107</td>\n",
       "      <td>108</td>\n",
       "    </tr>\n",
       "  </tbody>\n",
       "</table>\n",
       "</div>"
      ],
      "text/plain": [
       "                          New findings  Enriched  CNA  CNA and Enriched\n",
       "Adrenal_cancer                     113        40   21                35\n",
       "Brain_cancer                       147        53   29                60\n",
       "Breast_cancer                      129        13   76                32\n",
       "Colorectal_cancer                  133        32   37                59\n",
       "Gastric_cancer                     195        68   50                59\n",
       "HCC                                190        60   39                65\n",
       "HNSCC                              154        50   33                55\n",
       "Leukemia                            62        17    8                34\n",
       "Lung_cancer                        143        39   50                51\n",
       "Lymphoma                           161        63   34                56\n",
       "Melanoma                           194        80   39                61\n",
       "Multiple_myeloma                    80        26   13                38\n",
       "Myelodysplastic_syndrome            84        55    3                17\n",
       "Normal                             356        30  145                29\n",
       "Ovarian_cancer                     158        19   74                54\n",
       "Prostate_cancer                    106        50   13                28\n",
       "Renal_cancer                       138        61   15                37\n",
       "Sarcoma                            325        76  107               108"
      ]
     },
     "execution_count": 30,
     "metadata": {},
     "output_type": "execute_result"
    }
   ],
   "source": [
    "count"
   ]
  },
  {
   "cell_type": "code",
   "execution_count": 31,
   "id": "669f010f",
   "metadata": {
    "scrolled": false
   },
   "outputs": [
    {
     "data": {
      "image/png": "[encoded data removed]",
      "text/plain": [
       "<Figure size 1080x720 with 1 Axes>"
      ]
     },
     "metadata": {},
     "output_type": "display_data"
    }
   ],
   "source": [
    "# Start plotting the table we just made\n",
    "# First set colors and layout\n",
    "colors = sns.color_palette(\"tab10\")\n",
    "sns.set(font_scale=1.5, style='whitegrid')\n",
    "\n",
    "# Every bar needs to be plotted individually\n",
    "plot_df = count.copy()\n",
    "# Plot the total\n",
    "plot_df['Enriched'] = plot_df['Enriched'] + plot_df['CNA'] + plot_df['CNA and Enriched']\n",
    "plot_df = plot_df[['New findings', 'Enriched']]\n",
    "plot_df = pd.melt(plot_df.reset_index(), id_vars='index', value_name='value')\n",
    "plt.figure(figsize=(15,10))\n",
    "g = sns.barplot(data=plot_df, x='index', y='value', hue='variable', palette=[colors[0], colors[1]],\n",
    "               orient='v')\n",
    "\n",
    "# Leave out enriched so that one sicks out on top\n",
    "plot_df = count.copy()\n",
    "plot_df['CNA'] = plot_df['CNA'] + plot_df['CNA and Enriched']\n",
    "plot_df = plot_df[['New findings', 'CNA']]\n",
    "plot_df = pd.melt(plot_df.reset_index(), id_vars='index', value_name='value')\n",
    "sns.barplot(data=plot_df, x='index', y='value', hue='variable', palette=[colors[0], colors[2]], ax=g,\n",
    "               orient='v')\n",
    "\n",
    "# Leave out CNA and eniched so CNA and enriched stays at the bottem\n",
    "plot_df = count.copy()\n",
    "plot_df = plot_df[['New findings', 'CNA and Enriched']]\n",
    "plot_df = pd.melt(plot_df.reset_index(), id_vars='index', value_name='value')\n",
    "sns.barplot(data=plot_df, x='index', y='value', hue='variable', palette=[colors[0], colors[3]], ax=g,\n",
    "               orient='v')\n",
    "\n",
    "# Make the legend\n",
    "handles, labels = g.get_legend_handles_labels()\n",
    "g.legend(handles=[handles[x] for x in [0,1,3,5]], labels=[labels[x] for x in [0,1,3,5]])\n",
    "plt.xticks(rotation=90)\n",
    "#plt.gca().get_xticklabels(O)[1].set_color('red') \n",
    "plt.xlabel('Sample type')\n",
    "plt.ylabel('Count')\n",
    "plt.tight_layout()\n",
    "plt.show()"
   ]
  },
  {
   "cell_type": "markdown",
   "id": "1b6c4188",
   "metadata": {},
   "source": [
    "### In big but not in small"
   ]
  },
  {
   "cell_type": "code",
   "execution_count": 32,
   "id": "0bee5d98",
   "metadata": {
    "scrolled": true
   },
   "outputs": [],
   "source": [
    "# Calculate correlation\n",
    "correlation = Correlation(datasets.get_merged_small(), \n",
    "                         datasets.get_sample_data())\n",
    "# Get all small components that are not in the big datasset with a pearson cutoff of 0.6\n",
    "non_reproduced = correlation.get_half_correlation().max(axis=1)\n",
    "non_reproduced = pd.DataFrame(non_reproduced[non_reproduced < 0.6]).reset_index()\n",
    "# Get the component and the group in seperate columns\n",
    "non_reproduced[['Component', 'Group']] = non_reproduced['index'].str.split('_', expand=True)\n",
    "non_reproduced = non_reproduced.drop(['index', 0], axis=1)"
   ]
  },
  {
   "cell_type": "code",
   "execution_count": 33,
   "id": "5a2b4b6b",
   "metadata": {},
   "outputs": [],
   "source": [
    "#Get the enrichements and loop over every group to see for every component if it is enriched\n",
    "count = {}\n",
    "# Amount of component that don't correlate with big\n",
    "count['New findings'] = len(non_reproduced)\n",
    "active_components = []\n",
    "cna_components = []\n",
    "# Loop over the GSEA\n",
    "for path in paths:\n",
    "    # Load it in and remove the link\n",
    "    gsea_df = pd.read_csv(f'/home/MarkF/DivideConquer/Results/GPL570/All_Cancer/GSEA/{path[1]}',\n",
    "                     sep='\\t', index_col=0)\n",
    "    gsea_df.index = [x.split(' -- ')[0].replace(f'{path[0]}_','') for x in gsea_df.index]\n",
    "    # Only get the component that are in the current dataset\n",
    "    gsea_df = gsea_df[df['Component']].abs()\n",
    "    # Get the significant genesets (Score higher than 4) and put these esimated sources in a list\n",
    "    gsea_df = gsea_df > 4\n",
    "    gsea_df = gsea_df.sum()\n",
    "    gsea_df = gsea_df[gsea_df > 0]\n",
    "    active_components.extend(list(gsea_df.index))\n",
    "# Check if there are any CNA in the components\n",
    "cna_df = pd.read_csv(f'/home/MarkF/DivideConquer/Results/GPL570/All_Cancer/CNA_TC'\n",
    "                     '/_extreme_valued_regions_all_chromosomes.txt', sep='\\t')\n",
    "cna_df = cna_df[cna_df['extreme_value_region_status'] != 0]\n",
    "cna_df = cna_df[cna_df['mappings_in_region'] >= 10]\n",
    "# Only leave the ones that are in the non-appearning group\n",
    "cna_df = cna_df[cna_df['name'].isin(df['Component'])]\n",
    "cna_components.extend(list(cna_df['name']))\n",
    "# Only leave the unique values and count them\n",
    "active_components = set(active_components)\n",
    "cna_components = set(cna_components)\n",
    "# The only enriched\n",
    "count[f'Enriched'] = len(active_components.difference(cna_components))\n",
    "# The only CNA\n",
    "count[f'CNA'] = len(cna_components.difference(active_components))\n",
    "# Both enriched and CNA\n",
    "count['CNA and Enriched'] = len(active_components.intersection(cna_components))\n",
    "count = pd.DataFrame(count, index=['Sample dataset'])\n",
    "count['Biological function'] = count['Enriched'] + count['CNA'] + count['CNA and Enriched']\n",
    "count = count[['New findings', 'Enriched', 'CNA', 'CNA and Enriched']]"
   ]
  },
  {
   "cell_type": "code",
   "execution_count": 34,
   "id": "6bb62678",
   "metadata": {
    "scrolled": false
   },
   "outputs": [
    {
     "data": {
      "image/png": "[encoded data removed]",
      "text/plain": [
       "<Figure size 576x576 with 1 Axes>"
      ]
     },
     "metadata": {},
     "output_type": "display_data"
    }
   ],
   "source": [
    "# Start plotting the table we just made\n",
    "# First set colors and layout\n",
    "colors = sns.color_palette(\"tab10\")\n",
    "sns.set(font_scale=1.5, style='whitegrid')\n",
    "\n",
    "# Every bar needs to be plotted individually\n",
    "plot_df = count.copy()\n",
    "# Plot the total\n",
    "plot_df['Enriched'] = plot_df['Enriched'] + plot_df['CNA'] + plot_df['CNA and Enriched']\n",
    "plot_df = plot_df[['New findings', 'Enriched']]\n",
    "plot_df = pd.melt(plot_df.reset_index(), id_vars='index', value_name='value')\n",
    "plt.figure(figsize=(8,8))\n",
    "g = sns.barplot(data=plot_df, x='index', y='value', hue='variable', palette=[colors[0], colors[1]],\n",
    "               orient='v')\n",
    "\n",
    "# Leave out enriched so that one sicks out on top\n",
    "plot_df = count.copy()\n",
    "plot_df['CNA'] = plot_df['CNA'] + plot_df['CNA and Enriched']\n",
    "plot_df = plot_df[['New findings', 'CNA']]\n",
    "plot_df = pd.melt(plot_df.reset_index(), id_vars='index', value_name='value')\n",
    "sns.barplot(data=plot_df, x='index', y='value', hue='variable', palette=[colors[0], colors[2]], ax=g,\n",
    "               orient='v')\n",
    "\n",
    "# Leave out CNA and eniched so CNA and enriched stays at the bottem\n",
    "plot_df = count.copy()\n",
    "plot_df = plot_df[['New findings', 'CNA and Enriched']]\n",
    "plot_df = pd.melt(plot_df.reset_index(), id_vars='index', value_name='value')\n",
    "sns.barplot(data=plot_df, x='index', y='value', hue='variable', palette=[colors[0], colors[3]], ax=g,\n",
    "               orient='v')\n",
    "\n",
    "# Make the legend\n",
    "handles, labels = g.get_legend_handles_labels()\n",
    "g.legend(handles=[handles[x] for x in [0,1,3,5]], labels=[labels[x] for x in [0,1,3,5]])\n",
    "plt.xticks(rotation=90)\n",
    "#plt.gca().get_xticklabels()[1].set_color('red') \n",
    "plt.xlabel('Sample type')\n",
    "plt.ylabel('Count')\n",
    "plt.tight_layout()\n",
    "plt.show()"
   ]
  },
  {
   "cell_type": "markdown",
   "id": "78b8d3ed",
   "metadata": {},
   "source": [
    "### Not alot of not found components show any real biology. The new method does not mis much"
   ]
  },
  {
   "cell_type": "code",
   "execution_count": null,
   "id": "533af3ac",
   "metadata": {},
   "outputs": [],
   "source": []
  }
 ],
 "metadata": {
  "kernelspec": {
   "display_name": "Python 3 (ipykernel)",
   "language": "python",
   "name": "python3"
  },
  "language_info": {
   "codemirror_mode": {
    "name": "ipython",
    "version": 3
   },
   "file_extension": ".py",
   "mimetype": "text/x-python",
   "name": "python",
   "nbconvert_exporter": "python",
   "pygments_lexer": "ipython3",
   "version": "3.9.7"
  }
 },
 "nbformat": 4,
 "nbformat_minor": 5
}
