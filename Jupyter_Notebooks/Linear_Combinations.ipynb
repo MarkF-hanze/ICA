{
 "cells": [
  {
   "cell_type": "markdown",
   "id": "b078dfc0",
   "metadata": {},
   "source": [
    "# File to start checking if small component are capable of reproducing the big dataset"
   ]
  },
  {
   "cell_type": "code",
   "execution_count": 1,
   "id": "7f84e0a5",
   "metadata": {},
   "outputs": [],
   "source": [
    "import pandas as pd\n",
    "import sys\n",
    "import seaborn as sns\n",
    "import os\n",
    "\n",
    "\n",
    "from HelperClasses.LoadData import LoadICARuns \n",
    "from HelperClasses.Correlation import Correlation  \n",
    "from sklearn.linear_model import LinearRegression\n",
    "from scipy.stats import pearsonr\n",
    "from tqdm import tqdm"
   ]
  },
  {
   "cell_type": "markdown",
   "id": "f91747ce",
   "metadata": {},
   "source": [
    "# Find lineair combinations"
   ]
  },
  {
   "cell_type": "code",
   "execution_count": 2,
   "id": "c9f8ebf8",
   "metadata": {},
   "outputs": [
    {
     "name": "stdout",
     "output_type": "stream",
     "text": [
      "Number of components split 3: 150\n",
      "Number of components split 1: 196\n",
      "Number of components split 2: 139\n",
      "Number of components All data: 171\n"
     ]
    }
   ],
   "source": [
    "datasets = LoadICARuns('/home/MarkF/DivideConquer/Results/2000_Samples_Experiment/Clustered_vs_Random_Experiment/'\n",
    "                       'Clustered_Splits/3_Split',\n",
    "                        '/home/MarkF/DivideConquer/Results/2000_Samples_Experiment/Clustered_vs_Random_Experiment/'\n",
    "                        'ICARUN_ALL/ica_independent_components_consensus.tsv')"
   ]
  },
  {
   "cell_type": "code",
   "execution_count": 3,
   "id": "16147512",
   "metadata": {},
   "outputs": [
    {
     "name": "stderr",
     "output_type": "stream",
     "text": [
      "100%|██████████| 171/171 [00:32<00:00,  5.23it/s]\n"
     ]
    }
   ],
   "source": [
    "# Look how good a linear regressor is in predicting the new component\n",
    "X = datasets.get_merged_small().values\n",
    "new_cor = []\n",
    "for column in tqdm(datasets.get_sample_data().columns):\n",
    "    # Get y\n",
    "    y = datasets.get_sample_data()[column]\n",
    "    # Fit it without a intersept\n",
    "    reg = LinearRegression(fit_intercept=False).fit(X, y)\n",
    "    # Get the high coeficients\n",
    "    high_cov = reg.coef_.argsort()[::-1]\n",
    "    # Predict it back with only three components\n",
    "    y_pred = reg.coef_[high_cov[0]] * X[:,high_cov[0]] + reg.coef_[high_cov[1]] * X[:,high_cov[1]] + reg.coef_[high_cov[2]] * X[:,high_cov[2]]\n",
    "    #y_pred = reg.predict(X)\n",
    "    # Get the new correlation\n",
    "    new_cor.append(abs(pearsonr(y, y_pred)[0]))"
   ]
  },
  {
   "cell_type": "code",
   "execution_count": 4,
   "id": "b0481577",
   "metadata": {},
   "outputs": [
    {
     "data": {
      "text/plain": [
       "<AxesSubplot:xlabel='Pearson correlation', ylabel='Group'>"
      ]
     },
     "execution_count": 4,
     "metadata": {},
     "output_type": "execute_result"
    },
    {
     "data": {
      "image/png": "[encoded data removed]",
      "text/plain": [
       "<Figure size 432x288 with 1 Axes>"
      ]
     },
     "metadata": {
      "needs_background": "light"
     },
     "output_type": "display_data"
    }
   ],
   "source": [
    "# make a violineplot of the two distributions\n",
    "correlation = Correlation(datasets.get_merged_small(), datasets.get_sample_data())\n",
    "plot_df = pd.DataFrame(correlation.get_half_correlation().max(axis=1))\n",
    "plot_df[1] = new_cor\n",
    "plot_df.columns = ['Before', 'After']\n",
    "plot_df = pd.melt(plot_df, value_name='Pearson correlation')\n",
    "plot_df['Group'] = 'Regression'\n",
    "sns.violinplot(data=plot_df, x='Pearson correlation', y='Group',hue='variable', palette=['hotpink', 'blue'],\n",
    "               split=True, cut=0)"
   ]
  },
  {
   "cell_type": "markdown",
   "id": "bfca9733",
   "metadata": {},
   "source": [
    "Other methods need to be further investiaged because this one is not good"
   ]
  },
  {
   "cell_type": "code",
   "execution_count": null,
   "id": "c53ffe47",
   "metadata": {},
   "outputs": [],
   "source": []
  }
 ],
 "metadata": {
  "kernelspec": {
   "display_name": "Python 3 (ipykernel)",
   "language": "python",
   "name": "python3"
  },
  "language_info": {
   "codemirror_mode": {
    "name": "ipython",
    "version": 3
   },
   "file_extension": ".py",
   "mimetype": "text/x-python",
   "name": "python",
   "nbconvert_exporter": "python",
   "pygments_lexer": "ipython3",
   "version": "3.9.7"
  }
 },
 "nbformat": 4,
 "nbformat_minor": 5
}
